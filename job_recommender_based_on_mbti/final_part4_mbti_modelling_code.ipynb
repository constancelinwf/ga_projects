{
 "cells": [
  {
   "cell_type": "markdown",
   "metadata": {},
   "source": [
    "# ![](https://ga-dash.s3.amazonaws.com/production/assets/logo-9f88ae6c9c3871690e33280fcf557f33.png) Project 4B - Social Impact"
   ]
  },
  {
   "cell_type": "markdown",
   "metadata": {},
   "source": [
    "---\n",
    "\n",
    "### <b> Notebook 4: Text processing & Modelling on Balanced MBTI dataset\n",
    "\n",
    "Structure of this notebook </b>\n",
    "\n",
    "* Part 1: Preparing the MBTI dataframe for text processing\n",
    "* Part 2: Tokenization & Stemming\n",
    "* Part 3: Using TF-IDF to vectorize the corpus\n",
    "* Part 4: Modelling \n",
    "    * Logistic Regression\n",
    "    * Bernoulli Naive Bayes\n",
    "    * Multinomial Naive Bayes\n",
    "    * SVC\n",
    "    * Random Forest \n",
    "    * Forward Feed Neural Network\n",
    "* Part 5: Model Evaluation"
   ]
  },
  {
   "cell_type": "markdown",
   "metadata": {},
   "source": [
    "\n",
    "---\n",
    "\n",
    "### Import Libraries"
   ]
  },
  {
   "cell_type": "code",
   "execution_count": 1,
   "metadata": {},
   "outputs": [],
   "source": [
    "# Standard imports\n",
    "import numpy as np\n",
    "import pandas as pd\n",
    "import matplotlib.pyplot as plt\n",
    "\n",
    "# Preprocessing imports\n",
    "import re\n",
    "from nltk.corpus import stopwords\n",
    "from nltk.tokenize import RegexpTokenizer\n",
    "from nltk.stem.porter import PorterStemmer\n",
    "from sklearn.feature_extraction.text import TfidfVectorizer\n",
    "from sklearn.model_selection import train_test_split, cross_val_score, RandomizedSearchCV, GridSearchCV\n",
    "import joblib\n",
    "\n",
    "# Setting random seed for entire notebook\n",
    "import random\n",
    "random.seed(42)"
   ]
  },
  {
   "cell_type": "markdown",
   "metadata": {},
   "source": [
    "### Part 1: Preparing the MBTI dataframe for text processing\n",
    "\n",
    "(a) To import in the cleaned dataset"
   ]
  },
  {
   "cell_type": "code",
   "execution_count": 2,
   "metadata": {},
   "outputs": [],
   "source": [
    "# Read the dataset\n",
    "df_clean_mbti = pd.read_csv(\"./cleaned_data/final_balanced_cleaned_mbti.csv\")"
   ]
  },
  {
   "cell_type": "code",
   "execution_count": 3,
   "metadata": {},
   "outputs": [
    {
     "data": {
      "text/html": [
       "<div>\n",
       "<style scoped>\n",
       "    .dataframe tbody tr th:only-of-type {\n",
       "        vertical-align: middle;\n",
       "    }\n",
       "\n",
       "    .dataframe tbody tr th {\n",
       "        vertical-align: top;\n",
       "    }\n",
       "\n",
       "    .dataframe thead th {\n",
       "        text-align: right;\n",
       "    }\n",
       "</style>\n",
       "<table border=\"1\" class=\"dataframe\">\n",
       "  <thead>\n",
       "    <tr style=\"text-align: right;\">\n",
       "      <th></th>\n",
       "      <th>type</th>\n",
       "      <th>processed_posts</th>\n",
       "    </tr>\n",
       "  </thead>\n",
       "  <tbody>\n",
       "    <tr>\n",
       "      <th>0</th>\n",
       "      <td>INTJ</td>\n",
       "      <td>i tend to build up a collection of t...</td>\n",
       "    </tr>\n",
       "    <tr>\n",
       "      <th>1</th>\n",
       "      <td>ISTP</td>\n",
       "      <td>thanks pinina i initially wanted ham...</td>\n",
       "    </tr>\n",
       "    <tr>\n",
       "      <th>2</th>\n",
       "      <td>INFJ</td>\n",
       "      <td>every position world view spiritual ...</td>\n",
       "    </tr>\n",
       "    <tr>\n",
       "      <th>3</th>\n",
       "      <td>INFJ</td>\n",
       "      <td>my new boss is really annoying i rea...</td>\n",
       "    </tr>\n",
       "    <tr>\n",
       "      <th>4</th>\n",
       "      <td>INFJ</td>\n",
       "      <td>i love being infj except for these ...</td>\n",
       "    </tr>\n",
       "  </tbody>\n",
       "</table>\n",
       "</div>"
      ],
      "text/plain": [
       "   type                          processed_posts\n",
       "0  INTJ  i tend to build up a collection of t...\n",
       "1  ISTP  thanks pinina i initially wanted ham...\n",
       "2  INFJ  every position world view spiritual ...\n",
       "3  INFJ  my new boss is really annoying i rea...\n",
       "4  INFJ   i love being infj except for these ..."
      ]
     },
     "execution_count": 3,
     "metadata": {},
     "output_type": "execute_result"
    }
   ],
   "source": [
    "# Inspect the dataset\n",
    "pd.set_option('display.max_colwidth', 40)\n",
    "df_clean_mbti.head()"
   ]
  },
  {
   "cell_type": "markdown",
   "metadata": {},
   "source": [
    "(b) To split the MBTI traits into new columns and convert to Boolean"
   ]
  },
  {
   "cell_type": "code",
   "execution_count": 4,
   "metadata": {},
   "outputs": [
    {
     "data": {
      "text/html": [
       "<div>\n",
       "<style scoped>\n",
       "    .dataframe tbody tr th:only-of-type {\n",
       "        vertical-align: middle;\n",
       "    }\n",
       "\n",
       "    .dataframe tbody tr th {\n",
       "        vertical-align: top;\n",
       "    }\n",
       "\n",
       "    .dataframe thead th {\n",
       "        text-align: right;\n",
       "    }\n",
       "</style>\n",
       "<table border=\"1\" class=\"dataframe\">\n",
       "  <thead>\n",
       "    <tr style=\"text-align: right;\">\n",
       "      <th></th>\n",
       "      <th>type</th>\n",
       "      <th>processed_posts</th>\n",
       "      <th>s_n</th>\n",
       "      <th>t_f</th>\n",
       "      <th>j_p</th>\n",
       "    </tr>\n",
       "  </thead>\n",
       "  <tbody>\n",
       "    <tr>\n",
       "      <th>0</th>\n",
       "      <td>INTJ</td>\n",
       "      <td>i tend to build up a collection of t...</td>\n",
       "      <td>N</td>\n",
       "      <td>T</td>\n",
       "      <td>J</td>\n",
       "    </tr>\n",
       "    <tr>\n",
       "      <th>1</th>\n",
       "      <td>ISTP</td>\n",
       "      <td>thanks pinina i initially wanted ham...</td>\n",
       "      <td>S</td>\n",
       "      <td>T</td>\n",
       "      <td>P</td>\n",
       "    </tr>\n",
       "    <tr>\n",
       "      <th>2</th>\n",
       "      <td>INFJ</td>\n",
       "      <td>every position world view spiritual ...</td>\n",
       "      <td>N</td>\n",
       "      <td>F</td>\n",
       "      <td>J</td>\n",
       "    </tr>\n",
       "    <tr>\n",
       "      <th>3</th>\n",
       "      <td>INFJ</td>\n",
       "      <td>my new boss is really annoying i rea...</td>\n",
       "      <td>N</td>\n",
       "      <td>F</td>\n",
       "      <td>J</td>\n",
       "    </tr>\n",
       "    <tr>\n",
       "      <th>4</th>\n",
       "      <td>INFJ</td>\n",
       "      <td>i love being infj except for these ...</td>\n",
       "      <td>N</td>\n",
       "      <td>F</td>\n",
       "      <td>J</td>\n",
       "    </tr>\n",
       "  </tbody>\n",
       "</table>\n",
       "</div>"
      ],
      "text/plain": [
       "   type                          processed_posts s_n t_f j_p\n",
       "0  INTJ  i tend to build up a collection of t...   N   T   J\n",
       "1  ISTP  thanks pinina i initially wanted ham...   S   T   P\n",
       "2  INFJ  every position world view spiritual ...   N   F   J\n",
       "3  INFJ  my new boss is really annoying i rea...   N   F   J\n",
       "4  INFJ   i love being infj except for these ...   N   F   J"
      ]
     },
     "execution_count": 4,
     "metadata": {},
     "output_type": "execute_result"
    }
   ],
   "source": [
    "# S (Sensing) vs N (Intuition) - Related to information processing\n",
    "# T (Thinking) vs F (Feeling) - Related to cognitive functions \n",
    "# J (Judging) vs P (Perception) - Linked to priortizing the cognitive functions \n",
    "\n",
    "# Instantiate 3 separate lists to contain the 3 separate traits respectively\n",
    "list_sn = []\n",
    "list_tf = []\n",
    "list_jp = []\n",
    "\n",
    "for mbti in df_clean_mbti[\"type\"]:\n",
    "    letters = list(mbti)\n",
    "    list_sn.append(letters[1])\n",
    "    list_tf.append(letters[2])\n",
    "    list_jp.append(letters[3])\n",
    "\n",
    "# Combine each of the list as a new column to the existing dataframe\n",
    "df_clean_mbti[\"s_n\"] = list_sn\n",
    "df_clean_mbti[\"t_f\"] = list_tf\n",
    "df_clean_mbti[\"j_p\"] = list_jp\n",
    "\n",
    "# Checking the new df\n",
    "df_clean_mbti.head()"
   ]
  },
  {
   "cell_type": "code",
   "execution_count": 5,
   "metadata": {},
   "outputs": [
    {
     "data": {
      "text/html": [
       "<div>\n",
       "<style scoped>\n",
       "    .dataframe tbody tr th:only-of-type {\n",
       "        vertical-align: middle;\n",
       "    }\n",
       "\n",
       "    .dataframe tbody tr th {\n",
       "        vertical-align: top;\n",
       "    }\n",
       "\n",
       "    .dataframe thead th {\n",
       "        text-align: right;\n",
       "    }\n",
       "</style>\n",
       "<table border=\"1\" class=\"dataframe\">\n",
       "  <thead>\n",
       "    <tr style=\"text-align: right;\">\n",
       "      <th></th>\n",
       "      <th>type</th>\n",
       "      <th>processed_posts</th>\n",
       "      <th>s_n</th>\n",
       "      <th>t_f</th>\n",
       "      <th>j_p</th>\n",
       "    </tr>\n",
       "  </thead>\n",
       "  <tbody>\n",
       "    <tr>\n",
       "      <th>0</th>\n",
       "      <td>INTJ</td>\n",
       "      <td>i tend to build up a collection of t...</td>\n",
       "      <td>0</td>\n",
       "      <td>1</td>\n",
       "      <td>1</td>\n",
       "    </tr>\n",
       "    <tr>\n",
       "      <th>1</th>\n",
       "      <td>ISTP</td>\n",
       "      <td>thanks pinina i initially wanted ham...</td>\n",
       "      <td>1</td>\n",
       "      <td>1</td>\n",
       "      <td>0</td>\n",
       "    </tr>\n",
       "    <tr>\n",
       "      <th>2</th>\n",
       "      <td>INFJ</td>\n",
       "      <td>every position world view spiritual ...</td>\n",
       "      <td>0</td>\n",
       "      <td>0</td>\n",
       "      <td>1</td>\n",
       "    </tr>\n",
       "    <tr>\n",
       "      <th>3</th>\n",
       "      <td>INFJ</td>\n",
       "      <td>my new boss is really annoying i rea...</td>\n",
       "      <td>0</td>\n",
       "      <td>0</td>\n",
       "      <td>1</td>\n",
       "    </tr>\n",
       "    <tr>\n",
       "      <th>4</th>\n",
       "      <td>INFJ</td>\n",
       "      <td>i love being infj except for these ...</td>\n",
       "      <td>0</td>\n",
       "      <td>0</td>\n",
       "      <td>1</td>\n",
       "    </tr>\n",
       "  </tbody>\n",
       "</table>\n",
       "</div>"
      ],
      "text/plain": [
       "   type                          processed_posts  s_n  t_f  j_p\n",
       "0  INTJ  i tend to build up a collection of t...    0    1    1\n",
       "1  ISTP  thanks pinina i initially wanted ham...    1    1    0\n",
       "2  INFJ  every position world view spiritual ...    0    0    1\n",
       "3  INFJ  my new boss is really annoying i rea...    0    0    1\n",
       "4  INFJ   i love being infj except for these ...    0    0    1"
      ]
     },
     "execution_count": 5,
     "metadata": {},
     "output_type": "execute_result"
    }
   ],
   "source": [
    "# Boolean the 3 new columns so that it can be used for modelling as the y variable\n",
    "# S = 1, N = 0\n",
    "# T = 1, F = 0\n",
    "# J = 1, P = 0\n",
    "\n",
    "df_clean_mbti[\"s_n\"] = df_clean_mbti[\"s_n\"].map({\"S\": 1, \"N\": 0})\n",
    "df_clean_mbti[\"t_f\"] = df_clean_mbti[\"t_f\"].map({\"T\": 1, \"F\": 0})\n",
    "df_clean_mbti[\"j_p\"] = df_clean_mbti[\"j_p\"].map({\"J\": 1, \"P\": 0})\n",
    "\n",
    "df_clean_mbti.head()"
   ]
  },
  {
   "cell_type": "markdown",
   "metadata": {},
   "source": [
    "---\n",
    "\n",
    "### Part 2: Tokenization & Stemming\n",
    "\n",
    "As we have to use processed posts to evaluate 3 different traits, there is a need to create 3 different y variables (target) for modelling. We will be reiterating the tokenizing and stemming process to prepare for modelling for 3 different classifiers."
   ]
  },
  {
   "cell_type": "code",
   "execution_count": 6,
   "metadata": {},
   "outputs": [],
   "source": [
    "# Define X and y variables\n",
    "X = df_clean_mbti[[\"processed_posts\"]]\n",
    "\n",
    "# Labelling y variables separately\n",
    "y_sn = df_clean_mbti[\"s_n\"] \n",
    "y_tf = df_clean_mbti[\"t_f\"]\n",
    "y_jp = df_clean_mbti[\"j_p\"]"
   ]
  },
  {
   "cell_type": "code",
   "execution_count": 7,
   "metadata": {},
   "outputs": [
    {
     "data": {
      "text/html": [
       "<div>\n",
       "<style scoped>\n",
       "    .dataframe tbody tr th:only-of-type {\n",
       "        vertical-align: middle;\n",
       "    }\n",
       "\n",
       "    .dataframe tbody tr th {\n",
       "        vertical-align: top;\n",
       "    }\n",
       "\n",
       "    .dataframe thead th {\n",
       "        text-align: right;\n",
       "    }\n",
       "</style>\n",
       "<table border=\"1\" class=\"dataframe\">\n",
       "  <thead>\n",
       "    <tr style=\"text-align: right;\">\n",
       "      <th></th>\n",
       "      <th>processed_posts</th>\n",
       "    </tr>\n",
       "  </thead>\n",
       "  <tbody>\n",
       "    <tr>\n",
       "      <th>0</th>\n",
       "      <td>i tend to build up a collection of things on my desktop that i use frequently and then move them into a folder called 'everything' from there it get sorted into type and sub type i ike to collect odd objects even at work a lot of people would call it junk but i like to collect it old unused software ill take that off your hands i have a bunch of old adobe i think its quite normal i tend to only see my friends in real life every couple of months as said earlier some people just dont get it but the good ones do edit i mostly mean tolerate it where do we go when we sleep is dreaming another form of being awake how many more layers of this are there if any thoughts about sleep keep me up at night edit sometimes im too scared thanks i wish i was free to follow my interests as i desired i fe...</td>\n",
       "    </tr>\n",
       "    <tr>\n",
       "      <th>1</th>\n",
       "      <td>thanks pinina i initially wanted hammer but it was already taken topcat and his antics heh no i'm not dead and certainly with no stds this thread has gotten much more diverse than i remember hmm this thread has been quiet lately topcatlsdtsubakiretsu pinina let's shake things up a notch suggest the wackiest halloween costume possible i can't seem to quote pilot now coburn must have challenges to overcome we're quite hard to spot because we can be quite adaptable you have to catch us in our quiet moments good point i actually didn't account for the fact that she could turn against us while in that state xd well you got tha istp cool subtle badassery that's more than sufficient which thread member will have the longest rap sheet topcat which thread member is most likely to be a spy pilot...</td>\n",
       "    </tr>\n",
       "  </tbody>\n",
       "</table>\n",
       "</div>"
      ],
      "text/plain": [
       "                                                                                                                                                                                                                                                                                                                                                                                                                                                                                                                                                                                                                                                                                                                                                                                                                   processed_posts\n",
       "0  i tend to build up a collection of things on my desktop that i use frequently and then move them into a folder called 'everything' from there it get sorted into type and sub type i ike to collect odd objects even at work a lot of people would call it junk but i like to collect it old unused software ill take that off your hands i have a bunch of old adobe i think its quite normal i tend to only see my friends in real life every couple of months as said earlier some people just dont get it but the good ones do edit i mostly mean tolerate it where do we go when we sleep is dreaming another form of being awake how many more layers of this are there if any thoughts about sleep keep me up at night edit sometimes im too scared thanks i wish i was free to follow my interests as i desired i fe...\n",
       "1  thanks pinina i initially wanted hammer but it was already taken topcat and his antics heh no i'm not dead and certainly with no stds this thread has gotten much more diverse than i remember hmm this thread has been quiet lately topcatlsdtsubakiretsu pinina let's shake things up a notch suggest the wackiest halloween costume possible i can't seem to quote pilot now coburn must have challenges to overcome we're quite hard to spot because we can be quite adaptable you have to catch us in our quiet moments good point i actually didn't account for the fact that she could turn against us while in that state xd well you got tha istp cool subtle badassery that's more than sufficient which thread member will have the longest rap sheet topcat which thread member is most likely to be a spy pilot..."
      ]
     },
     "execution_count": 7,
     "metadata": {},
     "output_type": "execute_result"
    }
   ],
   "source": [
    "# Checking X variable\n",
    "pd.set_option('display.max_colwidth', 800)\n",
    "X.head(2)"
   ]
  },
  {
   "cell_type": "code",
   "execution_count": 8,
   "metadata": {},
   "outputs": [
    {
     "data": {
      "text/plain": [
       "0    0\n",
       "1    1\n",
       "Name: s_n, dtype: int64"
      ]
     },
     "execution_count": 8,
     "metadata": {},
     "output_type": "execute_result"
    }
   ],
   "source": [
    "# Checking y target\n",
    "y_sn.head(2)"
   ]
  },
  {
   "cell_type": "code",
   "execution_count": 9,
   "metadata": {},
   "outputs": [
    {
     "name": "stdout",
     "output_type": "stream",
     "text": [
      "s_n\n",
      "0    1200\n",
      "1    1200\n",
      "Name: count, dtype: int64\n",
      "t_f\n",
      "1    1200\n",
      "0    1200\n",
      "Name: count, dtype: int64\n",
      "j_p\n",
      "1    1200\n",
      "0    1200\n",
      "Name: count, dtype: int64\n"
     ]
    }
   ],
   "source": [
    "# Checking distribution of y target variable\n",
    "print(y_sn.value_counts())\n",
    "print(y_tf.value_counts())\n",
    "print(y_jp.value_counts())\n"
   ]
  },
  {
   "cell_type": "code",
   "execution_count": 10,
   "metadata": {},
   "outputs": [],
   "source": [
    "# # Define stemmer function which will tokenize and stem the corpus\n",
    "def stemmer(row):\n",
    "    '''Applies `PorterStemmer()` to each token in a document.\n",
    "    '''\n",
    "    # INstantiate stemmer\n",
    "    stem = PorterStemmer()\n",
    "\n",
    "    # Extracts post from each row\n",
    "    document = row[\"processed_posts\"]\n",
    "\n",
    "    # Tokenize sentence using RegexpTokenizer\n",
    "    re_tokenizer = RegexpTokenizer(pattern = r\"(?u)\\b(?:\\w\\w+|i|I)(?:[\\'\\'\\′\\ʼ](?:s|t|m|re|ve|d|ll))?\\b\")\n",
    "    list_of_tokens = re_tokenizer.tokenize(document)\n",
    "\n",
    "    # Applies stemmer to the list of tokens\n",
    "    stemmed_document = \"\"\n",
    "    for token in list_of_tokens:\n",
    "        stemmed_document += f\"{stem.stem(token)} \"\n",
    "    \n",
    "    return stemmed_document"
   ]
  },
  {
   "cell_type": "code",
   "execution_count": 11,
   "metadata": {},
   "outputs": [
    {
     "name": "stderr",
     "output_type": "stream",
     "text": [
      "C:\\Users\\Admin\\AppData\\Local\\Temp\\ipykernel_22052\\2855954937.py:2: SettingWithCopyWarning: \n",
      "A value is trying to be set on a copy of a slice from a DataFrame.\n",
      "Try using .loc[row_indexer,col_indexer] = value instead\n",
      "\n",
      "See the caveats in the documentation: https://pandas.pydata.org/pandas-docs/stable/user_guide/indexing.html#returning-a-view-versus-a-copy\n",
      "  X[\"processed_posts\"] = X.apply(stemmer, axis = 1)\n"
     ]
    },
    {
     "data": {
      "text/html": [
       "<div>\n",
       "<style scoped>\n",
       "    .dataframe tbody tr th:only-of-type {\n",
       "        vertical-align: middle;\n",
       "    }\n",
       "\n",
       "    .dataframe tbody tr th {\n",
       "        vertical-align: top;\n",
       "    }\n",
       "\n",
       "    .dataframe thead th {\n",
       "        text-align: right;\n",
       "    }\n",
       "</style>\n",
       "<table border=\"1\" class=\"dataframe\">\n",
       "  <thead>\n",
       "    <tr style=\"text-align: right;\">\n",
       "      <th></th>\n",
       "      <th>processed_posts</th>\n",
       "    </tr>\n",
       "  </thead>\n",
       "  <tbody>\n",
       "    <tr>\n",
       "      <th>0</th>\n",
       "      <td>i tend to build up collect of thing on my desktop that i use frequent and then move them into folder call everyth from there it get sort into type and sub type i ike to collect odd object even at work lot of peopl would call it junk but i like to collect it old unus softwar ill take that off your hand i have bunch of old adob i think it quit normal i tend to onli see my friend in real life everi coupl of month as said earlier some peopl just dont get it but the good one do edit i mostli mean...</td>\n",
       "    </tr>\n",
       "    <tr>\n",
       "      <th>1</th>\n",
       "      <td>thank pinina i initi want hammer but it wa alreadi taken topcat and hi antic heh no i'm not dead and certainli with no std thi thread ha gotten much more divers than i rememb hmm thi thread ha been quiet late topcatlsdtsubakiretsu pinina let' shake thing up notch suggest the wackiest halloween costum possibl i can't seem to quot pilot now coburn must have challeng to overcom we'r quit hard to spot becaus we can be quit adapt you have to catch us in our quiet moment good point i actual didn't...</td>\n",
       "    </tr>\n",
       "    <tr>\n",
       "      <th>2</th>\n",
       "      <td>everi posit world view spiritu outlook philosophi and religion are ultim human in natur they cater to human feel thought and desir you will alway be abl to identifi i don't know of ani infj chat room there is an intp one though on ecnet irc intp it' fairli activ it' not exactli what you'r look for but they have the in part so you'r half way there i have no chanc to describ thi without pictur so the blue is my right side on top and the red is my left then i do the same but on the other side w...</td>\n",
       "    </tr>\n",
       "    <tr>\n",
       "      <th>3</th>\n",
       "      <td>my new boss is realli annoy i realli want to leav work could someon pacifi her pl kitteh would an enfj be good match i found pictur onlin few week ago of the guy who use to bulli me when i wa younger on hi instagram profil and he now look like where' waldo and to be honest i still can't figur out sound like the worst pick up line ever or mayb the best do me favor go up to guy in bar and say that i'll bet he will buy you drink and then haha well you can never be wrong by give peopl nutella ri...</td>\n",
       "    </tr>\n",
       "    <tr>\n",
       "      <th>4</th>\n",
       "      <td>i love be infj except for these thing i wish i wa more social i can't initi convers i feel like i'm be nuisanc to whoever i want to talk to when i don't talk in hous burn notic white collar psych myth buster exclud hous they are not in ani particular order i'll give it shot will probabl remov these when if i come to my sens yea i know what you mean will do i'd feel bit bad do that but i'd feel way wors just ignor her thank for the advic will use it nah you'r not old style well if exactli wha...</td>\n",
       "    </tr>\n",
       "  </tbody>\n",
       "</table>\n",
       "</div>"
      ],
      "text/plain": [
       "                                                                                                                                                                                                                                                                                                                                                                                                                                                                                                       processed_posts\n",
       "0  i tend to build up collect of thing on my desktop that i use frequent and then move them into folder call everyth from there it get sort into type and sub type i ike to collect odd object even at work lot of peopl would call it junk but i like to collect it old unus softwar ill take that off your hand i have bunch of old adob i think it quit normal i tend to onli see my friend in real life everi coupl of month as said earlier some peopl just dont get it but the good one do edit i mostli mean...\n",
       "1  thank pinina i initi want hammer but it wa alreadi taken topcat and hi antic heh no i'm not dead and certainli with no std thi thread ha gotten much more divers than i rememb hmm thi thread ha been quiet late topcatlsdtsubakiretsu pinina let' shake thing up notch suggest the wackiest halloween costum possibl i can't seem to quot pilot now coburn must have challeng to overcom we'r quit hard to spot becaus we can be quit adapt you have to catch us in our quiet moment good point i actual didn't...\n",
       "2  everi posit world view spiritu outlook philosophi and religion are ultim human in natur they cater to human feel thought and desir you will alway be abl to identifi i don't know of ani infj chat room there is an intp one though on ecnet irc intp it' fairli activ it' not exactli what you'r look for but they have the in part so you'r half way there i have no chanc to describ thi without pictur so the blue is my right side on top and the red is my left then i do the same but on the other side w...\n",
       "3  my new boss is realli annoy i realli want to leav work could someon pacifi her pl kitteh would an enfj be good match i found pictur onlin few week ago of the guy who use to bulli me when i wa younger on hi instagram profil and he now look like where' waldo and to be honest i still can't figur out sound like the worst pick up line ever or mayb the best do me favor go up to guy in bar and say that i'll bet he will buy you drink and then haha well you can never be wrong by give peopl nutella ri...\n",
       "4  i love be infj except for these thing i wish i wa more social i can't initi convers i feel like i'm be nuisanc to whoever i want to talk to when i don't talk in hous burn notic white collar psych myth buster exclud hous they are not in ani particular order i'll give it shot will probabl remov these when if i come to my sens yea i know what you mean will do i'd feel bit bad do that but i'd feel way wors just ignor her thank for the advic will use it nah you'r not old style well if exactli wha..."
      ]
     },
     "execution_count": 11,
     "metadata": {},
     "output_type": "execute_result"
    }
   ],
   "source": [
    "# Stem our corpus\n",
    "X[\"processed_posts\"] = X.apply(stemmer, axis = 1)\n",
    "\n",
    "# Check output\n",
    "pd.set_option(\"display.max_colwidth\", 500)\n",
    "X.head()"
   ]
  },
  {
   "cell_type": "code",
   "execution_count": 12,
   "metadata": {},
   "outputs": [
    {
     "data": {
      "text/plain": [
       "(2400,)"
      ]
     },
     "execution_count": 12,
     "metadata": {},
     "output_type": "execute_result"
    }
   ],
   "source": [
    "# Check shape of df to ensure same number of rows after stemming\n",
    "X[\"processed_posts\"].shape"
   ]
  },
  {
   "cell_type": "markdown",
   "metadata": {},
   "source": [
    "---\n",
    "\n",
    "### Part 3: Using TF-IDF to vectorize the corpus\n",
    "\n",
    "(a) Train Test Split the data"
   ]
  },
  {
   "cell_type": "code",
   "execution_count": 13,
   "metadata": {},
   "outputs": [],
   "source": [
    "# Perform train test split data for 3 sets\n",
    "X_train_sn, X_test_sn, y_train_sn, y_test_sn = train_test_split(X, y_sn, random_state = 42, stratify = y_sn)\n",
    "X_train_tf, X_test_tf, y_train_tf, y_test_tf = train_test_split(X, y_tf, random_state = 42, stratify = y_tf)\n",
    "X_train_jp, X_test_jp, y_train_jp, y_test_jp = train_test_split(X, y_jp, random_state = 42, stratify = y_jp)"
   ]
  },
  {
   "cell_type": "code",
   "execution_count": 14,
   "metadata": {},
   "outputs": [
    {
     "data": {
      "text/plain": [
       "s_n\n",
       "1    900\n",
       "0    900\n",
       "Name: count, dtype: int64"
      ]
     },
     "execution_count": 14,
     "metadata": {},
     "output_type": "execute_result"
    }
   ],
   "source": [
    "# Checking number of cases for y_train\n",
    "y_train_sn.value_counts()"
   ]
  },
  {
   "cell_type": "code",
   "execution_count": 15,
   "metadata": {},
   "outputs": [
    {
     "data": {
      "text/plain": [
       "s_n\n",
       "0    300\n",
       "1    300\n",
       "Name: count, dtype: int64"
      ]
     },
     "execution_count": 15,
     "metadata": {},
     "output_type": "execute_result"
    }
   ],
   "source": [
    "# Checking number of cases for y_test\n",
    "y_test_sn.value_counts()"
   ]
  },
  {
   "cell_type": "markdown",
   "metadata": {},
   "source": [
    "(b) Vectorize the corpus"
   ]
  },
  {
   "cell_type": "code",
   "execution_count": 16,
   "metadata": {},
   "outputs": [],
   "source": [
    "# Instantiate 'TF-IDF' vectorizer\n",
    "tvec = TfidfVectorizer(stop_words = 'english',\n",
    "                       token_pattern = r\"(?u)\\b(?:\\w\\w+|i|I)(?:[\\'\\’\\′\\ʼ](?:s|t|m|re|ve|d|ll))?\\b\",\n",
    "                       ngram_range = (1, 3),\n",
    "                       max_df = 0.9,\n",
    "                       min_df = 0.1,\n",
    "                       max_features = 50000)"
   ]
  },
  {
   "cell_type": "code",
   "execution_count": 17,
   "metadata": {},
   "outputs": [],
   "source": [
    "# To attempt another combination of vectorizer \n",
    "tvec2 = TfidfVectorizer(stop_words = 'english',\n",
    "                       token_pattern = r\"(?u)\\b(?:\\w\\w+|i|I)(?:[\\'\\’\\′\\ʼ](?:s|t|m|re|ve|d|ll))?\\b\",\n",
    "                       ngram_range = (1, 3),\n",
    "                       max_df = 0.9,\n",
    "                       min_df = 0.3,\n",
    "                       max_features = 50000)"
   ]
  },
  {
   "cell_type": "code",
   "execution_count": 18,
   "metadata": {},
   "outputs": [
    {
     "data": {
      "text/plain": [
       "(1800, 873)"
      ]
     },
     "execution_count": 18,
     "metadata": {},
     "output_type": "execute_result"
    }
   ],
   "source": [
    "# Testing out the effects of different tvecs\n",
    "X_train_tvec_test = pd.DataFrame(tvec.fit_transform(X_train_sn[\"processed_posts\"]).todense(),\n",
    "                            columns = tvec.get_feature_names_out())\n",
    "X_train_tvec_test.shape"
   ]
  },
  {
   "cell_type": "code",
   "execution_count": 19,
   "metadata": {},
   "outputs": [
    {
     "data": {
      "text/plain": [
       "(1800, 209)"
      ]
     },
     "execution_count": 19,
     "metadata": {},
     "output_type": "execute_result"
    }
   ],
   "source": [
    "# Testing out the effects of different tvecs\n",
    "X_train_tvec_test2 = pd.DataFrame(tvec2.fit_transform(X_train_sn[\"processed_posts\"]).todense(),\n",
    "                            columns = tvec2.get_feature_names_out())\n",
    "X_train_tvec_test2.shape"
   ]
  },
  {
   "cell_type": "markdown",
   "metadata": {},
   "source": [
    "**Insights:**\n",
    "\n",
    "\n",
    "As we have 3 sets of train test split data, we will have to repeat the vectorizing process 3 times for each set. We will also save the vectorizer as a .pkl file after every fitting as we will need it in Notebook 5 testing it on new data (Linkedin dataset). We have tried different variations of tvec by adjusting the min_df and we realised that resulted in  a drastic decrease in of columns (which means there are less features for our training data to train on) hence we will stick to min_df = 0.1."
   ]
  },
  {
   "cell_type": "markdown",
   "metadata": {},
   "source": [
    "\n",
    "#### 1. S-N Trait"
   ]
  },
  {
   "cell_type": "code",
   "execution_count": 20,
   "metadata": {},
   "outputs": [
    {
     "data": {
      "text/plain": [
       "(1800, 873)"
      ]
     },
     "execution_count": 20,
     "metadata": {},
     "output_type": "execute_result"
    }
   ],
   "source": [
    "# Fit transform train data\n",
    "X_train_sn_tvec = pd.DataFrame(tvec.fit_transform(X_train_sn[\"processed_posts\"]).todense(),\n",
    "                            columns = tvec.get_feature_names_out())\n",
    "X_train_sn_tvec.shape"
   ]
  },
  {
   "cell_type": "code",
   "execution_count": 21,
   "metadata": {},
   "outputs": [
    {
     "data": {
      "text/plain": [
       "(600, 873)"
      ]
     },
     "execution_count": 21,
     "metadata": {},
     "output_type": "execute_result"
    }
   ],
   "source": [
    "# Transform test data\n",
    "X_test_sn_tvec = pd.DataFrame(tvec.transform(X_test_sn[\"processed_posts\"]).todense(),\n",
    "                            columns=tvec.get_feature_names_out())\n",
    "X_test_sn_tvec.shape"
   ]
  },
  {
   "cell_type": "code",
   "execution_count": 22,
   "metadata": {},
   "outputs": [
    {
     "data": {
      "text/plain": [
       "['./pkl_files/tvec_SN.pkl']"
      ]
     },
     "execution_count": 22,
     "metadata": {},
     "output_type": "execute_result"
    }
   ],
   "source": [
    "# Saving the vectorizer as .pkl file for SN trait\n",
    "joblib.dump(tvec, \"./pkl_files/tvec_SN.pkl\")"
   ]
  },
  {
   "cell_type": "markdown",
   "metadata": {},
   "source": [
    "#### 2. T-F Trait"
   ]
  },
  {
   "cell_type": "code",
   "execution_count": 23,
   "metadata": {},
   "outputs": [
    {
     "data": {
      "text/plain": [
       "(1800, 865)"
      ]
     },
     "execution_count": 23,
     "metadata": {},
     "output_type": "execute_result"
    }
   ],
   "source": [
    "# Fit transform train data\n",
    "X_train_tf_tvec = pd.DataFrame(tvec.fit_transform(X_train_tf[\"processed_posts\"]).todense(),\n",
    "                            columns = tvec.get_feature_names_out())\n",
    "X_train_tf_tvec.shape"
   ]
  },
  {
   "cell_type": "code",
   "execution_count": 24,
   "metadata": {},
   "outputs": [
    {
     "data": {
      "text/plain": [
       "(600, 865)"
      ]
     },
     "execution_count": 24,
     "metadata": {},
     "output_type": "execute_result"
    }
   ],
   "source": [
    "# Transform test data\n",
    "X_test_tf_tvec = pd.DataFrame(tvec.transform(X_test_tf[\"processed_posts\"]).todense(),\n",
    "                            columns=tvec.get_feature_names_out())\n",
    "X_test_tf_tvec.shape"
   ]
  },
  {
   "cell_type": "code",
   "execution_count": 25,
   "metadata": {},
   "outputs": [
    {
     "data": {
      "text/plain": [
       "['./pkl_files/tvec_TF.pkl']"
      ]
     },
     "execution_count": 25,
     "metadata": {},
     "output_type": "execute_result"
    }
   ],
   "source": [
    "# Saving the vectorizer as .pkl file for TF trait\n",
    "joblib.dump(tvec, \"./pkl_files/tvec_TF.pkl\")"
   ]
  },
  {
   "cell_type": "markdown",
   "metadata": {},
   "source": [
    "#### 3. J-P Trait"
   ]
  },
  {
   "cell_type": "code",
   "execution_count": 26,
   "metadata": {},
   "outputs": [
    {
     "data": {
      "text/plain": [
       "(1800, 870)"
      ]
     },
     "execution_count": 26,
     "metadata": {},
     "output_type": "execute_result"
    }
   ],
   "source": [
    "# Fit transform train data\n",
    "X_train_jp_tvec = pd.DataFrame(tvec.fit_transform(X_train_jp[\"processed_posts\"]).todense(),\n",
    "                            columns = tvec.get_feature_names_out())\n",
    "X_train_jp_tvec.shape"
   ]
  },
  {
   "cell_type": "code",
   "execution_count": 27,
   "metadata": {},
   "outputs": [
    {
     "data": {
      "text/plain": [
       "(600, 870)"
      ]
     },
     "execution_count": 27,
     "metadata": {},
     "output_type": "execute_result"
    }
   ],
   "source": [
    "# Transform test data\n",
    "X_test_jp_tvec = pd.DataFrame(tvec.transform(X_test_jp[\"processed_posts\"]).todense(),\n",
    "                            columns=tvec.get_feature_names_out())\n",
    "X_test_jp_tvec.shape"
   ]
  },
  {
   "cell_type": "code",
   "execution_count": 28,
   "metadata": {},
   "outputs": [
    {
     "data": {
      "text/plain": [
       "['./pkl_files/tvec_JP.pkl']"
      ]
     },
     "execution_count": 28,
     "metadata": {},
     "output_type": "execute_result"
    }
   ],
   "source": [
    "# Saving the vectorizer as .pkl file for JP trait\n",
    "joblib.dump(tvec, \"./pkl_files/tvec_JP.pkl\")"
   ]
  },
  {
   "cell_type": "markdown",
   "metadata": {},
   "source": [
    "---\n",
    "\n",
    "### Part 4: Modelling\n",
    "\n",
    "In this section, we will attempt to use the following modelling algorithms to train the data.\n",
    "* Logistic Regression\n",
    "* Bernoulli Naive Bayes\n",
    "* Multinomial Naive Bayes\n",
    "* SVC\n",
    "* Random Forest \n",
    "* Forward Feed Neural Network"
   ]
  },
  {
   "cell_type": "code",
   "execution_count": 29,
   "metadata": {},
   "outputs": [
    {
     "name": "stdout",
     "output_type": "stream",
     "text": [
      "WARNING:tensorflow:From c:\\Users\\Admin\\anaconda3\\envs\\doodlesacer\\Lib\\site-packages\\keras\\src\\losses.py:2976: The name tf.losses.sparse_softmax_cross_entropy is deprecated. Please use tf.compat.v1.losses.sparse_softmax_cross_entropy instead.\n",
      "\n"
     ]
    }
   ],
   "source": [
    "# Modelling imports\n",
    "from sklearn.pipeline import Pipeline\n",
    "from sklearn.metrics import classification_report\n",
    "from sklearn import metrics\n",
    "\n",
    "from sklearn.naive_bayes import BernoulliNB, MultinomialNB\n",
    "from sklearn.linear_model import LogisticRegression\n",
    "from sklearn.svm import SVC\n",
    "from sklearn.ensemble import RandomForestClassifier\n",
    "\n",
    "from sklearn.preprocessing import LabelEncoder\n",
    "from keras.models import Sequential\n",
    "from keras.layers import Dense, Dropout, InputLayer\n",
    "from keras.regularizers import l1_l2\n",
    "from sklearn.decomposition import PCA\n",
    "from keras.callbacks import EarlyStopping"
   ]
  },
  {
   "cell_type": "markdown",
   "metadata": {},
   "source": [
    "(a) Logistic Regression, Naive Bayes & SVC"
   ]
  },
  {
   "cell_type": "code",
   "execution_count": 30,
   "metadata": {},
   "outputs": [],
   "source": [
    "# Make a pipeline to try the following models\n",
    "\n",
    "logreg_pipe = Pipeline(steps = [(\"logreg\", LogisticRegression())])\n",
    "bnb_pipe = Pipeline(steps = [(\"bnb\", BernoulliNB())])\n",
    "mnb_pipe = Pipeline(steps = [(\"mnb\", MultinomialNB())])\n",
    "svc_pipe = Pipeline(steps = [(\"svc\", SVC())])\n",
    "\n",
    "classification_pipeline_list = [logreg_pipe, bnb_pipe, mnb_pipe, svc_pipe]"
   ]
  },
  {
   "cell_type": "code",
   "execution_count": 31,
   "metadata": {},
   "outputs": [],
   "source": [
    "# Create a function that will calculate the scores and classification report based on pipeline list\n",
    "\n",
    "def classify_model_scores(pipeline, x_train, y_train, x_test, y_test):\n",
    "    list_all_scores = []\n",
    "\n",
    "    for pipe in pipeline:\n",
    "        # instantiate dictionary to fit in train score, test score, cross val score\n",
    "        dict_scores = {}\n",
    "\n",
    "        # fit the model into training data\n",
    "        pipe.fit(x_train, y_train)\n",
    "\n",
    "\n",
    "        # 1. get the r2 score for training data\n",
    "        train_score = pipe.score(x_train, y_train)\n",
    "        dict_scores[\"R2_train\"] = train_score\n",
    "\n",
    "\n",
    "        # 2. get the cross validation score \n",
    "        cross_validation = cross_val_score(pipe, x_train, y_train).mean()\n",
    "        dict_scores[\"cross_val\"] = cross_validation\n",
    "\n",
    "\n",
    "        # 3. get the r2 score for testing data\n",
    "        test_score = pipe.score(x_test, y_test)\n",
    "        dict_scores[\"R2_test\"] = test_score\n",
    "\n",
    "\n",
    "        # 4. get the f1 scores\n",
    "        # first create y_preds for training and testing data\n",
    "        y_preds_train = pipe.predict(x_train)\n",
    "        y_preds_test = pipe.predict(x_test)\n",
    "\n",
    "        # 4a. F1 score of training data\n",
    "        f1_train = metrics.f1_score(y_train, y_preds_train)\n",
    "        dict_scores[\"training F1\"] = f1_train\n",
    "        \n",
    "        # 4b. F1 score of testing data\n",
    "        f1_test = metrics.f1_score(y_test, y_preds_test)\n",
    "        dict_scores[\"testing F1\"] = f1_test\n",
    "\n",
    "\n",
    "        # 5. Append all scores into the list\n",
    "        list_all_scores.append({pipe[0]: dict_scores})\n",
    "\n",
    "\n",
    "        # 6. Print the classification report for testing data only\n",
    "        report = classification_report(y_test, y_preds_test)\n",
    "        print(f\"{pipe}:\")\n",
    "        print(report)\n",
    "\n",
    "\n",
    "    return list_all_scores"
   ]
  },
  {
   "cell_type": "markdown",
   "metadata": {},
   "source": [
    "#### 1. S-N Trait Modelling Scores"
   ]
  },
  {
   "cell_type": "code",
   "execution_count": 32,
   "metadata": {},
   "outputs": [
    {
     "name": "stdout",
     "output_type": "stream",
     "text": [
      "Pipeline(steps=[('logreg', LogisticRegression())]):\n",
      "              precision    recall  f1-score   support\n",
      "\n",
      "           0       0.88      0.89      0.88       300\n",
      "           1       0.89      0.87      0.88       300\n",
      "\n",
      "    accuracy                           0.88       600\n",
      "   macro avg       0.88      0.88      0.88       600\n",
      "weighted avg       0.88      0.88      0.88       600\n",
      "\n",
      "Pipeline(steps=[('bnb', BernoulliNB())]):\n",
      "              precision    recall  f1-score   support\n",
      "\n",
      "           0       0.72      0.72      0.72       300\n",
      "           1       0.72      0.72      0.72       300\n",
      "\n",
      "    accuracy                           0.72       600\n",
      "   macro avg       0.72      0.72      0.72       600\n",
      "weighted avg       0.72      0.72      0.72       600\n",
      "\n",
      "Pipeline(steps=[('mnb', MultinomialNB())]):\n",
      "              precision    recall  f1-score   support\n",
      "\n",
      "           0       0.86      0.85      0.85       300\n",
      "           1       0.85      0.86      0.85       300\n",
      "\n",
      "    accuracy                           0.85       600\n",
      "   macro avg       0.85      0.85      0.85       600\n",
      "weighted avg       0.85      0.85      0.85       600\n",
      "\n",
      "Pipeline(steps=[('svc', SVC())]):\n",
      "              precision    recall  f1-score   support\n",
      "\n",
      "           0       0.91      0.92      0.91       300\n",
      "           1       0.92      0.91      0.91       300\n",
      "\n",
      "    accuracy                           0.91       600\n",
      "   macro avg       0.91      0.91      0.91       600\n",
      "weighted avg       0.91      0.91      0.91       600\n",
      "\n"
     ]
    },
    {
     "data": {
      "text/plain": [
       "[{LogisticRegression(): {'R2_train': 0.9388888888888889,\n",
       "   'cross_val': 0.8766666666666666,\n",
       "   'R2_test': 0.8833333333333333,\n",
       "   'training F1': 0.9392265193370165,\n",
       "   'testing F1': 0.882154882154882}},\n",
       " {BernoulliNB(): {'R2_train': 0.7861111111111111,\n",
       "   'cross_val': 0.7294444444444445,\n",
       "   'R2_test': 0.72,\n",
       "   'training F1': 0.7874102705687466,\n",
       "   'testing F1': 0.72}},\n",
       " {MultinomialNB(): {'R2_train': 0.8738888888888889,\n",
       "   'cross_val': 0.8272222222222222,\n",
       "   'R2_test': 0.8516666666666667,\n",
       "   'training F1': 0.8735376044568245,\n",
       "   'testing F1': 0.8524046434494196}},\n",
       " {SVC(): {'R2_train': 0.9916666666666667,\n",
       "   'cross_val': 0.9044444444444444,\n",
       "   'R2_test': 0.9133333333333333,\n",
       "   'training F1': 0.9916897506925207,\n",
       "   'testing F1': 0.912751677852349}}]"
      ]
     },
     "execution_count": 32,
     "metadata": {},
     "output_type": "execute_result"
    }
   ],
   "source": [
    "classify_model_scores(classification_pipeline_list, X_train_sn_tvec, y_train_sn, X_test_sn_tvec, y_test_sn)"
   ]
  },
  {
   "cell_type": "markdown",
   "metadata": {},
   "source": [
    "#### 2. T-F Trait Modelling Scores"
   ]
  },
  {
   "cell_type": "code",
   "execution_count": 33,
   "metadata": {},
   "outputs": [
    {
     "name": "stdout",
     "output_type": "stream",
     "text": [
      "Pipeline(steps=[('logreg', LogisticRegression())]):\n",
      "              precision    recall  f1-score   support\n",
      "\n",
      "           0       0.91      0.89      0.90       300\n",
      "           1       0.89      0.92      0.90       300\n",
      "\n",
      "    accuracy                           0.90       600\n",
      "   macro avg       0.90      0.90      0.90       600\n",
      "weighted avg       0.90      0.90      0.90       600\n",
      "\n",
      "Pipeline(steps=[('bnb', BernoulliNB())]):\n",
      "              precision    recall  f1-score   support\n",
      "\n",
      "           0       0.74      0.77      0.75       300\n",
      "           1       0.76      0.72      0.74       300\n",
      "\n",
      "    accuracy                           0.75       600\n",
      "   macro avg       0.75      0.75      0.75       600\n",
      "weighted avg       0.75      0.75      0.75       600\n",
      "\n",
      "Pipeline(steps=[('mnb', MultinomialNB())]):\n",
      "              precision    recall  f1-score   support\n",
      "\n",
      "           0       0.84      0.84      0.84       300\n",
      "           1       0.84      0.84      0.84       300\n",
      "\n",
      "    accuracy                           0.84       600\n",
      "   macro avg       0.84      0.84      0.84       600\n",
      "weighted avg       0.84      0.84      0.84       600\n",
      "\n",
      "Pipeline(steps=[('svc', SVC())]):\n",
      "              precision    recall  f1-score   support\n",
      "\n",
      "           0       0.92      0.91      0.92       300\n",
      "           1       0.91      0.92      0.92       300\n",
      "\n",
      "    accuracy                           0.92       600\n",
      "   macro avg       0.92      0.92      0.92       600\n",
      "weighted avg       0.92      0.92      0.92       600\n",
      "\n"
     ]
    },
    {
     "data": {
      "text/plain": [
       "[{LogisticRegression(): {'R2_train': 0.9311111111111111,\n",
       "   'cross_val': 0.8833333333333332,\n",
       "   'R2_test': 0.9033333333333333,\n",
       "   'training F1': 0.9311111111111111,\n",
       "   'testing F1': 0.9046052631578947}},\n",
       " {BernoulliNB(): {'R2_train': 0.7988888888888889,\n",
       "   'cross_val': 0.7555555555555555,\n",
       "   'R2_test': 0.7466666666666667,\n",
       "   'training F1': 0.8017524644030667,\n",
       "   'testing F1': 0.7406143344709898}},\n",
       " {MultinomialNB(): {'R2_train': 0.8661111111111112,\n",
       "   'cross_val': 0.8311111111111111,\n",
       "   'R2_test': 0.8416666666666667,\n",
       "   'training F1': 0.8649859943977591,\n",
       "   'testing F1': 0.8419301164725458}},\n",
       " {SVC(): {'R2_train': 0.99,\n",
       "   'cross_val': 0.8916666666666668,\n",
       "   'R2_test': 0.9166666666666666,\n",
       "   'training F1': 0.9899665551839465,\n",
       "   'testing F1': 0.9172185430463575}}]"
      ]
     },
     "execution_count": 33,
     "metadata": {},
     "output_type": "execute_result"
    }
   ],
   "source": [
    "classify_model_scores(classification_pipeline_list, X_train_tf_tvec, y_train_tf, X_test_tf_tvec, y_test_tf)"
   ]
  },
  {
   "cell_type": "markdown",
   "metadata": {},
   "source": [
    "#### 3. T-F Trait Modelling Scores"
   ]
  },
  {
   "cell_type": "code",
   "execution_count": 34,
   "metadata": {},
   "outputs": [
    {
     "name": "stdout",
     "output_type": "stream",
     "text": [
      "Pipeline(steps=[('logreg', LogisticRegression())]):\n",
      "              precision    recall  f1-score   support\n",
      "\n",
      "           0       0.86      0.83      0.84       300\n",
      "           1       0.84      0.86      0.85       300\n",
      "\n",
      "    accuracy                           0.85       600\n",
      "   macro avg       0.85      0.85      0.85       600\n",
      "weighted avg       0.85      0.85      0.85       600\n",
      "\n",
      "Pipeline(steps=[('bnb', BernoulliNB())]):\n",
      "              precision    recall  f1-score   support\n",
      "\n",
      "           0       0.67      0.68      0.67       300\n",
      "           1       0.67      0.66      0.67       300\n",
      "\n",
      "    accuracy                           0.67       600\n",
      "   macro avg       0.67      0.67      0.67       600\n",
      "weighted avg       0.67      0.67      0.67       600\n",
      "\n",
      "Pipeline(steps=[('mnb', MultinomialNB())]):\n",
      "              precision    recall  f1-score   support\n",
      "\n",
      "           0       0.79      0.80      0.79       300\n",
      "           1       0.80      0.79      0.79       300\n",
      "\n",
      "    accuracy                           0.79       600\n",
      "   macro avg       0.79      0.79      0.79       600\n",
      "weighted avg       0.79      0.79      0.79       600\n",
      "\n",
      "Pipeline(steps=[('svc', SVC())]):\n",
      "              precision    recall  f1-score   support\n",
      "\n",
      "           0       0.86      0.87      0.87       300\n",
      "           1       0.87      0.86      0.86       300\n",
      "\n",
      "    accuracy                           0.86       600\n",
      "   macro avg       0.87      0.86      0.86       600\n",
      "weighted avg       0.87      0.86      0.86       600\n",
      "\n"
     ]
    },
    {
     "data": {
      "text/plain": [
       "[{LogisticRegression(): {'R2_train': 0.9172222222222223,\n",
       "   'cross_val': 0.845,\n",
       "   'R2_test': 0.8466666666666667,\n",
       "   'training F1': 0.9164329781267527,\n",
       "   'testing F1': 0.8486842105263157}},\n",
       " {BernoulliNB(): {'R2_train': 0.7344444444444445,\n",
       "   'cross_val': 0.6477777777777777,\n",
       "   'R2_test': 0.6683333333333333,\n",
       "   'training F1': 0.7305524239007891,\n",
       "   'testing F1': 0.665546218487395}},\n",
       " {MultinomialNB(): {'R2_train': 0.8355555555555556,\n",
       "   'cross_val': 0.7805555555555556,\n",
       "   'R2_test': 0.7933333333333333,\n",
       "   'training F1': 0.8331454340473506,\n",
       "   'testing F1': 0.7926421404682275}},\n",
       " {SVC(): {'R2_train': 0.9844444444444445,\n",
       "   'cross_val': 0.8638888888888889,\n",
       "   'R2_test': 0.865,\n",
       "   'training F1': 0.9844444444444445,\n",
       "   'testing F1': 0.8638655462184874}}]"
      ]
     },
     "execution_count": 34,
     "metadata": {},
     "output_type": "execute_result"
    }
   ],
   "source": [
    "classify_model_scores(classification_pipeline_list, X_train_jp_tvec, y_train_jp, X_test_jp_tvec, y_test_jp)"
   ]
  },
  {
   "cell_type": "markdown",
   "metadata": {},
   "source": [
    "(b) Random Forest"
   ]
  },
  {
   "cell_type": "code",
   "execution_count": 32,
   "metadata": {},
   "outputs": [
    {
     "name": "stdout",
     "output_type": "stream",
     "text": [
      "Parameters currently in use:\n",
      "\n",
      "{'bootstrap': True,\n",
      " 'ccp_alpha': 0.0,\n",
      " 'class_weight': None,\n",
      " 'criterion': 'gini',\n",
      " 'max_depth': None,\n",
      " 'max_features': 'sqrt',\n",
      " 'max_leaf_nodes': None,\n",
      " 'max_samples': None,\n",
      " 'min_impurity_decrease': 0.0,\n",
      " 'min_samples_leaf': 1,\n",
      " 'min_samples_split': 2,\n",
      " 'min_weight_fraction_leaf': 0.0,\n",
      " 'n_estimators': 100,\n",
      " 'n_jobs': None,\n",
      " 'oob_score': False,\n",
      " 'random_state': 42,\n",
      " 'verbose': 0,\n",
      " 'warm_start': False}\n"
     ]
    }
   ],
   "source": [
    "# Instantiate the random forest model\n",
    "rf = RandomForestClassifier(random_state = 42)\n",
    "\n",
    "from pprint import pprint\n",
    "# Look at parameters used by our current forest\n",
    "print('Parameters currently in use:\\n')\n",
    "pprint(rf.get_params())"
   ]
  },
  {
   "cell_type": "code",
   "execution_count": 33,
   "metadata": {},
   "outputs": [],
   "source": [
    "# Use randomized gridsearch cv to scout for the range of hyperparameters first using current settings above as a guide\n",
    "\n",
    "# Number of trees in random forest\n",
    "n_estimators = [int(x) for x in np.linspace(start = 100, stop = 400, num = 20)]  \n",
    "\n",
    "# Number of features to consider at every split\n",
    "max_features = ['log2', 'sqrt']\n",
    "\n",
    "# Maximum number of levels in tree\n",
    "max_depth = [int(x) for x in np.linspace(10, 110, num = 21)] # tried 1, 10; tried 10, 110\n",
    "max_depth.append(None)\n",
    "\n",
    "# Minimum number of samples required to split a node\n",
    "min_samples_split = [2, 5, 10, 15, 20]\n",
    "\n",
    "# Minimum number of samples required at each leaf node\n",
    "min_samples_leaf = [1, 3, 5, 7]\n",
    "\n",
    "# Method of selecting samples for training each tree\n",
    "bootstrap = [True, False]\n",
    "\n",
    "# Summary of hyperparameters to test\n",
    "random_grid = {'n_estimators': n_estimators,\n",
    "               'max_features': max_features,\n",
    "               'max_depth': max_depth,\n",
    "               'min_samples_split': min_samples_split,\n",
    "               'min_samples_leaf': min_samples_leaf,\n",
    "               'bootstrap': bootstrap}\n"
   ]
  },
  {
   "cell_type": "code",
   "execution_count": 34,
   "metadata": {},
   "outputs": [],
   "source": [
    "rf_random = RandomizedSearchCV(estimator = rf, param_distributions = random_grid,\n",
    "                              n_iter = 100, scoring = \"r2\", \n",
    "                              cv = 3, random_state = 42, n_jobs = -1)\n",
    "\n",
    "# Fit the random search model\n",
    "rf_random.fit(X_train_sn_tvec, y_train_sn);"
   ]
  },
  {
   "cell_type": "code",
   "execution_count": 35,
   "metadata": {},
   "outputs": [
    {
     "name": "stdout",
     "output_type": "stream",
     "text": [
      "Best Score: 0.49111111111111105\n",
      "Best Parameters: {'n_estimators': 336, 'min_samples_split': 20, 'min_samples_leaf': 3, 'max_features': 'sqrt', 'max_depth': 105, 'bootstrap': True}\n"
     ]
    }
   ],
   "source": [
    "# Get the best parameters and best score\n",
    "best_score = rf_random.best_score_\n",
    "best_parameters = rf_random.best_params_\n",
    "\n",
    "print(\"Best Score: %s\" % best_score)\n",
    "print(\"Best Parameters: %s\" % best_parameters)"
   ]
  },
  {
   "cell_type": "markdown",
   "metadata": {},
   "source": [
    "(c) Forward Feed Neural Networks"
   ]
  },
  {
   "cell_type": "code",
   "execution_count": 36,
   "metadata": {},
   "outputs": [],
   "source": [
    "# Convert MBTI types to categorical variables first for NN \n",
    "label_encoder = LabelEncoder()\n",
    "df_clean_mbti[\"type_numeric\"] = label_encoder.fit_transform(df_clean_mbti[\"type\"])\n",
    "mbti_labels = label_encoder.classes_"
   ]
  },
  {
   "cell_type": "markdown",
   "metadata": {},
   "source": [
    "**Insights:**\n",
    "\n",
    "As part of neural network modelling, we wil need to label encode our labels first to categorical variables. We would also need to ensure the fitting of our features to our model - this will be achieved by PCA to do dimension reduction. n_components is according to the shape of our X_train data after we fit the TF-IDF vectorizer in for each trait."
   ]
  },
  {
   "cell_type": "markdown",
   "metadata": {},
   "source": [
    "#### 1. S-N Trait training"
   ]
  },
  {
   "cell_type": "code",
   "execution_count": 37,
   "metadata": {},
   "outputs": [],
   "source": [
    "pca = PCA(n_components = 873)\n",
    "X_train_reduced = pca.fit_transform(X_train_sn_tvec)"
   ]
  },
  {
   "cell_type": "code",
   "execution_count": 38,
   "metadata": {},
   "outputs": [
    {
     "name": "stdout",
     "output_type": "stream",
     "text": [
      "WARNING:tensorflow:From c:\\Users\\Admin\\anaconda3\\envs\\doodlesacer\\Lib\\site-packages\\keras\\src\\backend.py:1398: The name tf.executing_eagerly_outside_functions is deprecated. Please use tf.compat.v1.executing_eagerly_outside_functions instead.\n",
      "\n",
      "WARNING:tensorflow:From c:\\Users\\Admin\\anaconda3\\envs\\doodlesacer\\Lib\\site-packages\\keras\\src\\optimizers\\__init__.py:309: The name tf.train.Optimizer is deprecated. Please use tf.compat.v1.train.Optimizer instead.\n",
      "\n",
      "Epoch 1/50\n",
      "WARNING:tensorflow:From c:\\Users\\Admin\\anaconda3\\envs\\doodlesacer\\Lib\\site-packages\\keras\\src\\utils\\tf_utils.py:492: The name tf.ragged.RaggedTensorValue is deprecated. Please use tf.compat.v1.ragged.RaggedTensorValue instead.\n",
      "\n",
      "WARNING:tensorflow:From c:\\Users\\Admin\\anaconda3\\envs\\doodlesacer\\Lib\\site-packages\\keras\\src\\engine\\base_layer_utils.py:384: The name tf.executing_eagerly_outside_functions is deprecated. Please use tf.compat.v1.executing_eagerly_outside_functions instead.\n",
      "\n",
      "15/15 [==============================] - 1s 4ms/step - loss: 0.6933 - accuracy: 0.5094\n",
      "Epoch 2/50\n",
      "15/15 [==============================] - 0s 3ms/step - loss: 0.6799 - accuracy: 0.7500\n",
      "Epoch 3/50\n",
      "15/15 [==============================] - 0s 3ms/step - loss: 0.6672 - accuracy: 0.8533\n",
      "Epoch 4/50\n",
      "15/15 [==============================] - 0s 3ms/step - loss: 0.6521 - accuracy: 0.8867\n",
      "Epoch 5/50\n",
      "15/15 [==============================] - 0s 3ms/step - loss: 0.6329 - accuracy: 0.9039\n",
      "Epoch 6/50\n",
      "15/15 [==============================] - 0s 3ms/step - loss: 0.6096 - accuracy: 0.9067\n",
      "Epoch 7/50\n",
      "15/15 [==============================] - 0s 3ms/step - loss: 0.5823 - accuracy: 0.9067\n",
      "Epoch 8/50\n",
      "15/15 [==============================] - 0s 3ms/step - loss: 0.5524 - accuracy: 0.9094\n",
      "Epoch 9/50\n",
      "15/15 [==============================] - 0s 3ms/step - loss: 0.5209 - accuracy: 0.9150\n",
      "Epoch 10/50\n",
      "15/15 [==============================] - 0s 2ms/step - loss: 0.4890 - accuracy: 0.9161\n",
      "Epoch 11/50\n",
      "15/15 [==============================] - 0s 3ms/step - loss: 0.4582 - accuracy: 0.9244\n",
      "Epoch 12/50\n",
      "15/15 [==============================] - 0s 3ms/step - loss: 0.4287 - accuracy: 0.9278\n",
      "Epoch 13/50\n",
      "15/15 [==============================] - 0s 3ms/step - loss: 0.4002 - accuracy: 0.9333\n",
      "Epoch 14/50\n",
      "15/15 [==============================] - 0s 3ms/step - loss: 0.3748 - accuracy: 0.9394\n",
      "Epoch 15/50\n",
      "15/15 [==============================] - 0s 3ms/step - loss: 0.3495 - accuracy: 0.9461\n",
      "Epoch 16/50\n",
      "15/15 [==============================] - 0s 3ms/step - loss: 0.3277 - accuracy: 0.9494\n",
      "Epoch 17/50\n",
      "15/15 [==============================] - 0s 3ms/step - loss: 0.3061 - accuracy: 0.9539\n",
      "Epoch 18/50\n",
      "15/15 [==============================] - 0s 3ms/step - loss: 0.2875 - accuracy: 0.9600\n",
      "Epoch 19/50\n",
      "15/15 [==============================] - 0s 3ms/step - loss: 0.2697 - accuracy: 0.9656\n",
      "Epoch 20/50\n",
      "15/15 [==============================] - 0s 3ms/step - loss: 0.2532 - accuracy: 0.9661\n",
      "Epoch 21/50\n",
      "15/15 [==============================] - 0s 3ms/step - loss: 0.2381 - accuracy: 0.9700\n",
      "Epoch 22/50\n",
      "15/15 [==============================] - 0s 3ms/step - loss: 0.2240 - accuracy: 0.9722\n",
      "Epoch 23/50\n",
      "15/15 [==============================] - 0s 3ms/step - loss: 0.2120 - accuracy: 0.9728\n",
      "Epoch 24/50\n",
      "15/15 [==============================] - 0s 3ms/step - loss: 0.1999 - accuracy: 0.9739\n",
      "Epoch 25/50\n",
      "15/15 [==============================] - 0s 3ms/step - loss: 0.1890 - accuracy: 0.9761\n",
      "Epoch 26/50\n",
      "15/15 [==============================] - 0s 3ms/step - loss: 0.1788 - accuracy: 0.9778\n",
      "Epoch 27/50\n",
      "15/15 [==============================] - 0s 3ms/step - loss: 0.1694 - accuracy: 0.9794\n",
      "Epoch 28/50\n",
      "15/15 [==============================] - 0s 3ms/step - loss: 0.1612 - accuracy: 0.9822\n",
      "Epoch 29/50\n",
      "15/15 [==============================] - 0s 4ms/step - loss: 0.1527 - accuracy: 0.9839\n",
      "Epoch 30/50\n",
      "15/15 [==============================] - 0s 3ms/step - loss: 0.1451 - accuracy: 0.9844\n",
      "Epoch 31/50\n",
      "15/15 [==============================] - 0s 4ms/step - loss: 0.1378 - accuracy: 0.9850\n",
      "Epoch 32/50\n",
      "15/15 [==============================] - 0s 3ms/step - loss: 0.1312 - accuracy: 0.9878\n",
      "Epoch 33/50\n",
      "15/15 [==============================] - 0s 3ms/step - loss: 0.1250 - accuracy: 0.9883\n",
      "Epoch 34/50\n",
      "15/15 [==============================] - 0s 3ms/step - loss: 0.1191 - accuracy: 0.9889\n",
      "Epoch 35/50\n",
      "15/15 [==============================] - 0s 3ms/step - loss: 0.1136 - accuracy: 0.9906\n",
      "Epoch 36/50\n",
      "15/15 [==============================] - 0s 3ms/step - loss: 0.1084 - accuracy: 0.9917\n",
      "Epoch 37/50\n",
      "15/15 [==============================] - 0s 3ms/step - loss: 0.1040 - accuracy: 0.9922\n",
      "Epoch 38/50\n",
      "15/15 [==============================] - 0s 3ms/step - loss: 0.0992 - accuracy: 0.9933\n",
      "Epoch 39/50\n",
      "15/15 [==============================] - 0s 3ms/step - loss: 0.0948 - accuracy: 0.9950\n",
      "Epoch 40/50\n",
      "15/15 [==============================] - 0s 3ms/step - loss: 0.0909 - accuracy: 0.9950\n",
      "Epoch 41/50\n",
      "15/15 [==============================] - 0s 3ms/step - loss: 0.0868 - accuracy: 0.9956\n",
      "Epoch 42/50\n",
      "15/15 [==============================] - 0s 3ms/step - loss: 0.0832 - accuracy: 0.9967\n",
      "Epoch 43/50\n",
      "15/15 [==============================] - 0s 3ms/step - loss: 0.0796 - accuracy: 0.9967\n",
      "Epoch 44/50\n",
      "15/15 [==============================] - 0s 3ms/step - loss: 0.0764 - accuracy: 0.9967\n",
      "Epoch 45/50\n",
      "15/15 [==============================] - 0s 3ms/step - loss: 0.0735 - accuracy: 0.9967\n"
     ]
    }
   ],
   "source": [
    "# Redefining the model structure according to S-N for fitting \n",
    "\n",
    "nn_model_sn = Sequential([\n",
    "    InputLayer(input_shape = (873,)),  \n",
    "    Dense(64, activation = \"relu\"),\n",
    "    Dense(1, activation = \"sigmoid\")  \n",
    "])\n",
    "\n",
    "# Compile the model with the correct settings\n",
    "nn_model_sn.compile(optimizer = \"adam\", loss = \"binary_crossentropy\", metrics = [\"accuracy\"])\n",
    "\n",
    "# Implementing a regularization technique\n",
    "early_stopping = EarlyStopping(monitor = \"accuracy\", patience = 3, mode = \"max\", restore_best_weights = True)\n",
    "\n",
    "# Fit the model with the correctly shaped data\n",
    "history = nn_model_sn.fit(X_train_reduced, y_train_sn,\n",
    "                    epochs = 50,\n",
    "                    batch_size =  128,\n",
    "                    callbacks = [early_stopping])"
   ]
  },
  {
   "cell_type": "code",
   "execution_count": 39,
   "metadata": {},
   "outputs": [
    {
     "name": "stdout",
     "output_type": "stream",
     "text": [
      "(600, 873)\n",
      "19/19 [==============================] - 0s 1ms/step - loss: 0.4498 - accuracy: 0.8317\n",
      "Test Loss: 0.4498050808906555\n",
      "Test Accuracy: 0.8316666483879089\n"
     ]
    }
   ],
   "source": [
    "# Model evaluation for S-N Trait\n",
    "\n",
    "# Transform the test data with PCA\n",
    "X_test_reduced = pca.transform(X_test_sn_tvec)\n",
    "\n",
    "# Verify the shape to ensure it's correctly transformed\n",
    "print(X_test_reduced.shape)  # This should output (number_of_test_samples, 873)\n",
    "\n",
    "# Evaluate the model\n",
    "test_loss, test_accuracy = nn_model_sn.evaluate(X_test_reduced, y_test_sn)\n",
    "\n",
    "print(f\"Test Loss: {test_loss}\")\n",
    "print(f\"Test Accuracy: {test_accuracy}\")"
   ]
  },
  {
   "cell_type": "markdown",
   "metadata": {},
   "source": [
    "**Insights:**\n",
    "\n",
    "The SN trait model has achieved a test accuracy of approximately 83.3% and a test loss of 0.478. These results are promising and suggest that our model generalizes well to unseen data, maintaining a high level of accuracy outside of the training set."
   ]
  },
  {
   "cell_type": "markdown",
   "metadata": {},
   "source": [
    "#### 2. T-F Trait training"
   ]
  },
  {
   "cell_type": "code",
   "execution_count": 40,
   "metadata": {},
   "outputs": [],
   "source": [
    "pca = PCA(n_components = 865)\n",
    "X_train_reduced_tf = pca.fit_transform(X_train_tf_tvec)"
   ]
  },
  {
   "cell_type": "code",
   "execution_count": 41,
   "metadata": {},
   "outputs": [
    {
     "name": "stdout",
     "output_type": "stream",
     "text": [
      "Epoch 1/50\n",
      "15/15 [==============================] - 1s 3ms/step - loss: 0.6917 - accuracy: 0.5189\n",
      "Epoch 2/50\n",
      "15/15 [==============================] - 0s 4ms/step - loss: 0.6772 - accuracy: 0.7711\n",
      "Epoch 3/50\n",
      "15/15 [==============================] - 0s 3ms/step - loss: 0.6629 - accuracy: 0.8583\n",
      "Epoch 4/50\n",
      "15/15 [==============================] - 0s 3ms/step - loss: 0.6442 - accuracy: 0.9028\n",
      "Epoch 5/50\n",
      "15/15 [==============================] - 0s 3ms/step - loss: 0.6204 - accuracy: 0.9156\n",
      "Epoch 6/50\n",
      "15/15 [==============================] - 0s 3ms/step - loss: 0.5917 - accuracy: 0.9206\n",
      "Epoch 7/50\n",
      "15/15 [==============================] - 0s 3ms/step - loss: 0.5593 - accuracy: 0.9278\n",
      "Epoch 8/50\n",
      "15/15 [==============================] - 0s 3ms/step - loss: 0.5243 - accuracy: 0.9322\n",
      "Epoch 9/50\n",
      "15/15 [==============================] - 0s 3ms/step - loss: 0.4883 - accuracy: 0.9317\n",
      "Epoch 10/50\n",
      "15/15 [==============================] - 0s 3ms/step - loss: 0.4527 - accuracy: 0.9361\n",
      "Epoch 11/50\n",
      "15/15 [==============================] - 0s 3ms/step - loss: 0.4191 - accuracy: 0.9389\n",
      "Epoch 12/50\n",
      "15/15 [==============================] - 0s 3ms/step - loss: 0.3886 - accuracy: 0.9433\n",
      "Epoch 13/50\n",
      "15/15 [==============================] - 0s 3ms/step - loss: 0.3591 - accuracy: 0.9444\n",
      "Epoch 14/50\n",
      "15/15 [==============================] - 0s 3ms/step - loss: 0.3325 - accuracy: 0.9489\n",
      "Epoch 15/50\n",
      "15/15 [==============================] - 0s 3ms/step - loss: 0.3082 - accuracy: 0.9544\n",
      "Epoch 16/50\n",
      "15/15 [==============================] - 0s 3ms/step - loss: 0.2868 - accuracy: 0.9589\n",
      "Epoch 17/50\n",
      "15/15 [==============================] - 0s 3ms/step - loss: 0.2670 - accuracy: 0.9611\n",
      "Epoch 18/50\n",
      "15/15 [==============================] - 0s 3ms/step - loss: 0.2492 - accuracy: 0.9650\n",
      "Epoch 19/50\n",
      "15/15 [==============================] - 0s 2ms/step - loss: 0.2336 - accuracy: 0.9656\n",
      "Epoch 20/50\n",
      "15/15 [==============================] - 0s 3ms/step - loss: 0.2194 - accuracy: 0.9694\n",
      "Epoch 21/50\n",
      "15/15 [==============================] - 0s 3ms/step - loss: 0.2063 - accuracy: 0.9700\n",
      "Epoch 22/50\n",
      "15/15 [==============================] - 0s 2ms/step - loss: 0.1945 - accuracy: 0.9722\n",
      "Epoch 23/50\n",
      "15/15 [==============================] - 0s 3ms/step - loss: 0.1830 - accuracy: 0.9744\n",
      "Epoch 24/50\n",
      "15/15 [==============================] - 0s 3ms/step - loss: 0.1732 - accuracy: 0.9767\n",
      "Epoch 25/50\n",
      "15/15 [==============================] - 0s 3ms/step - loss: 0.1636 - accuracy: 0.9783\n",
      "Epoch 26/50\n",
      "15/15 [==============================] - 0s 3ms/step - loss: 0.1551 - accuracy: 0.9789\n",
      "Epoch 27/50\n",
      "15/15 [==============================] - 0s 3ms/step - loss: 0.1471 - accuracy: 0.9806\n",
      "Epoch 28/50\n",
      "15/15 [==============================] - 0s 2ms/step - loss: 0.1401 - accuracy: 0.9833\n",
      "Epoch 29/50\n",
      "15/15 [==============================] - 0s 3ms/step - loss: 0.1334 - accuracy: 0.9839\n",
      "Epoch 30/50\n",
      "15/15 [==============================] - 0s 3ms/step - loss: 0.1272 - accuracy: 0.9844\n",
      "Epoch 31/50\n",
      "15/15 [==============================] - 0s 3ms/step - loss: 0.1212 - accuracy: 0.9867\n",
      "Epoch 32/50\n",
      "15/15 [==============================] - 0s 3ms/step - loss: 0.1160 - accuracy: 0.9889\n",
      "Epoch 33/50\n",
      "15/15 [==============================] - 0s 3ms/step - loss: 0.1105 - accuracy: 0.9900\n",
      "Epoch 34/50\n",
      "15/15 [==============================] - 0s 3ms/step - loss: 0.1058 - accuracy: 0.9911\n",
      "Epoch 35/50\n",
      "15/15 [==============================] - 0s 5ms/step - loss: 0.1010 - accuracy: 0.9911\n",
      "Epoch 36/50\n",
      "15/15 [==============================] - 0s 6ms/step - loss: 0.0965 - accuracy: 0.9922\n",
      "Epoch 37/50\n",
      "15/15 [==============================] - 0s 4ms/step - loss: 0.0923 - accuracy: 0.9917\n",
      "Epoch 38/50\n",
      "15/15 [==============================] - 0s 3ms/step - loss: 0.0887 - accuracy: 0.9922\n",
      "Epoch 39/50\n",
      "15/15 [==============================] - 0s 3ms/step - loss: 0.0851 - accuracy: 0.9922\n"
     ]
    }
   ],
   "source": [
    "# Redefining the model structure according to T-F for fitting \n",
    "\n",
    "nn_model_tf = Sequential([\n",
    "    InputLayer(input_shape = (865,)),  \n",
    "    Dense(64, activation = \"relu\"),\n",
    "    Dense(1, activation = \"sigmoid\")  \n",
    "])\n",
    "\n",
    "# Compile the model with the correct settings\n",
    "nn_model_tf.compile(optimizer = \"adam\", loss = \"binary_crossentropy\", metrics = [\"accuracy\"])\n",
    "\n",
    "# Implementing a regularization technique\n",
    "early_stopping = EarlyStopping(monitor = \"accuracy\", patience = 3, mode = \"max\", restore_best_weights = True)\n",
    "\n",
    "# Fit the model with the correctly shaped data\n",
    "history = nn_model_tf.fit(X_train_reduced_tf, y_train_tf,\n",
    "                    epochs = 50,\n",
    "                    batch_size =  128,\n",
    "                    callbacks = [early_stopping])"
   ]
  },
  {
   "cell_type": "code",
   "execution_count": 42,
   "metadata": {},
   "outputs": [
    {
     "name": "stdout",
     "output_type": "stream",
     "text": [
      "(600, 865)\n",
      "19/19 [==============================] - 0s 2ms/step - loss: 0.3482 - accuracy: 0.8717\n",
      "Test Loss: 0.3481904864311218\n",
      "Test Accuracy: 0.871666669845581\n"
     ]
    }
   ],
   "source": [
    "# Model evaluation for T-F Trait\n",
    "\n",
    "# Transform the test data with PCA\n",
    "X_test_reduced_tf = pca.transform(X_test_tf_tvec)\n",
    "\n",
    "# Verify the shape to ensure it's correctly transformed\n",
    "print(X_test_reduced_tf.shape)  # This should output (number_of_test_samples, 865)\n",
    "\n",
    "# Evaluate the model\n",
    "test_loss, test_accuracy = nn_model_tf.evaluate(X_test_reduced_tf, y_test_tf)\n",
    "\n",
    "print(f\"Test Loss: {test_loss}\")\n",
    "print(f\"Test Accuracy: {test_accuracy}\")"
   ]
  },
  {
   "cell_type": "markdown",
   "metadata": {},
   "source": [
    "**Insights:**\n",
    "\n",
    "The TF trait model achieved a test loss of 0.385 and a test accuracy of 86.7%. These results are promising and suggest that our model generalizes well to unseen data, maintaining a high level of accuracy outside of the training set."
   ]
  },
  {
   "cell_type": "markdown",
   "metadata": {},
   "source": [
    "#### 3. J-P Trait Training"
   ]
  },
  {
   "cell_type": "code",
   "execution_count": 43,
   "metadata": {},
   "outputs": [],
   "source": [
    "pca = PCA(n_components = 870)\n",
    "X_train_reduced_jp = pca.fit_transform(X_train_jp_tvec)"
   ]
  },
  {
   "cell_type": "code",
   "execution_count": 44,
   "metadata": {},
   "outputs": [
    {
     "name": "stdout",
     "output_type": "stream",
     "text": [
      "Epoch 1/50\n",
      "15/15 [==============================] - 1s 3ms/step - loss: 0.6914 - accuracy: 0.5261\n",
      "Epoch 2/50\n",
      "15/15 [==============================] - 0s 3ms/step - loss: 0.6776 - accuracy: 0.7033\n",
      "Epoch 3/50\n",
      "15/15 [==============================] - 0s 3ms/step - loss: 0.6648 - accuracy: 0.7950\n",
      "Epoch 4/50\n",
      "15/15 [==============================] - 0s 3ms/step - loss: 0.6482 - accuracy: 0.8633\n",
      "Epoch 5/50\n",
      "15/15 [==============================] - 0s 3ms/step - loss: 0.6268 - accuracy: 0.9128\n",
      "Epoch 6/50\n",
      "15/15 [==============================] - 0s 3ms/step - loss: 0.6016 - accuracy: 0.9350\n",
      "Epoch 7/50\n",
      "15/15 [==============================] - 0s 3ms/step - loss: 0.5717 - accuracy: 0.9344\n",
      "Epoch 8/50\n",
      "15/15 [==============================] - 0s 3ms/step - loss: 0.5385 - accuracy: 0.9322\n",
      "Epoch 9/50\n",
      "15/15 [==============================] - 0s 3ms/step - loss: 0.5037 - accuracy: 0.9306\n"
     ]
    }
   ],
   "source": [
    "# Redefining the model structure according to T-F for fitting \n",
    "\n",
    "nn_model_jp = Sequential([\n",
    "    InputLayer(input_shape = (870,)),  \n",
    "    Dense(64, activation = \"relu\"),\n",
    "    Dense(1, activation = \"sigmoid\")  \n",
    "])\n",
    "\n",
    "# Compile the model with the correct settings\n",
    "nn_model_jp.compile(optimizer = \"adam\", loss = \"binary_crossentropy\", metrics = [\"accuracy\"])\n",
    "\n",
    "# Implementing a regularization technique\n",
    "early_stopping = EarlyStopping(monitor = \"accuracy\", patience = 3, mode = \"max\", restore_best_weights = True)\n",
    "\n",
    "# Fit the model with the correctly shaped data\n",
    "history = nn_model_jp.fit(X_train_reduced_jp, y_train_jp,\n",
    "                    epochs = 50,\n",
    "                    batch_size =  128,\n",
    "                    callbacks = [early_stopping])"
   ]
  },
  {
   "cell_type": "code",
   "execution_count": 45,
   "metadata": {},
   "outputs": [
    {
     "name": "stdout",
     "output_type": "stream",
     "text": [
      "(600, 870)\n",
      "19/19 [==============================] - 0s 2ms/step - loss: 0.6159 - accuracy: 0.8283\n",
      "Test Loss: 0.6159277558326721\n",
      "Test Accuracy: 0.82833331823349\n"
     ]
    }
   ],
   "source": [
    "# Model evaluation for J-P Trait\n",
    "\n",
    "# Transform the test data with PCA\n",
    "X_test_reduced_jp = pca.transform(X_test_jp_tvec)\n",
    "\n",
    "# Verify the shape to ensure it's correctly transformed\n",
    "print(X_test_reduced_jp.shape)  # This should output (number_of_test_samples, 870)\n",
    "\n",
    "# Evaluate the model\n",
    "test_loss, test_accuracy = nn_model_jp.evaluate(X_test_reduced_jp, y_test_jp)\n",
    "\n",
    "print(f\"Test Loss: {test_loss}\")\n",
    "print(f\"Test Accuracy: {test_accuracy}\")"
   ]
  },
  {
   "cell_type": "markdown",
   "metadata": {},
   "source": [
    "**Insights:**\n",
    "\n",
    "The JP trait model achieved a test loss of 0.616 and a test accuracy of approximately 82.83%. These results are promising and suggest that our model generalizes well to unseen data, maintaining a high level of accuracy outside of the training set."
   ]
  },
  {
   "cell_type": "code",
   "execution_count": 52,
   "metadata": {},
   "outputs": [
    {
     "data": {
      "image/png": "[encoded data removed]",
      "text/plain": [
       "<Figure size 1000x500 with 1 Axes>"
      ]
     },
     "metadata": {},
     "output_type": "display_data"
    },
    {
     "data": {
      "image/png": "[encoded data removed]",
      "text/plain": [
       "<Figure size 1000x500 with 1 Axes>"
      ]
     },
     "metadata": {},
     "output_type": "display_data"
    }
   ],
   "source": [
    "# Example data: Replace these lists with your actual data\n",
    "pca_components = [873, 865, 870]  # Number of PCA components\n",
    "test_accuracies = [0.8317, 0.8717, 0.8283]  # Corresponding test accuracies\n",
    "test_losses = [0.4498, 0.3482, 0.6159]  # Corresponding test losses\n",
    "\n",
    "# Plotting test accuracy\n",
    "plt.figure(figsize=(10, 5))\n",
    "plt.plot(pca_components, test_accuracies, label = \"Test Accuracy\", marker = \"o\", linestyle = \"-\" , color = \"b\")\n",
    "plt.xlabel(\"Number of PCA Components\")\n",
    "plt.ylabel(\"Test Accuracy\")\n",
    "plt.title(\"Model Test Accuracy by PCA Components\")\n",
    "plt.legend()\n",
    "plt.grid(True)\n",
    "plt.xticks(pca_components)\n",
    "plt.show()\n",
    "\n",
    "# Plotting test loss\n",
    "plt.figure(figsize=(10, 5))\n",
    "plt.plot(pca_components, test_losses, label = \"Test Loss\", marker = \"o\", linestyle = \"-\" , color = \"r\")\n",
    "plt.xlabel(\"Number of PCA Components\")\n",
    "plt.ylabel(\"Test Loss\")\n",
    "plt.title(\"Model Test Loss by PCA Components\")\n",
    "plt.legend()\n",
    "plt.grid(True)\n",
    "plt.xticks(pca_components)\n",
    "plt.show()"
   ]
  },
  {
   "cell_type": "markdown",
   "metadata": {},
   "source": [
    "**Insights:**\n",
    "\n",
    "The analysis of both graphs suggests that increasing the number of PCA components beyond a certain point does not benefit the model's performance and may indeed hurt the performance. The optimal number of components, based on these graphs, seems to be 865, where both the accuracy is highest, and the loss is lowest."
   ]
  },
  {
   "cell_type": "markdown",
   "metadata": {},
   "source": [
    "##### Summary Table of NN results"
   ]
  },
  {
   "cell_type": "code",
   "execution_count": 53,
   "metadata": {},
   "outputs": [
    {
     "name": "stdout",
     "output_type": "stream",
     "text": [
      "  Trait  PCA Components  Test Loss  Test Accuracy\n",
      "0   S-N             873     0.4498         0.8317\n",
      "1   T-F             865     0.3482         0.8717\n",
      "2   J-P             870     0.6159         0.8283\n"
     ]
    }
   ],
   "source": [
    "# Define the data\n",
    "data = {\n",
    "    'Trait': ['S-N', 'T-F', 'J-P'],\n",
    "    'PCA Components': [873, 865, 870],\n",
    "    'Test Loss': [0.4498, 0.3482, 0.6159],\n",
    "    'Test Accuracy': [0.8317, 0.8717, 0.8283]\n",
    "}\n",
    "\n",
    "# Create the DataFrame\n",
    "results_df = pd.DataFrame(data)\n",
    "\n",
    "# Display the DataFrame as a table\n",
    "print(results_df)"
   ]
  },
  {
   "cell_type": "markdown",
   "metadata": {},
   "source": [
    "---\n",
    "\n",
    "### Part 5: Model evaluation"
   ]
  },
  {
   "cell_type": "markdown",
   "metadata": {},
   "source": [
    "` Random Forest`\n",
    "\n",
    "We got the base parameters that were used in a default random forest algorithm and then did a randomised grid search first to scout the parameters that possibly could give us good scores for the random forest algorithm and fitted them on 1 of our train-test-split set (S-N trait). However the best score turned out to be barely 0.50 hence we did not move forward with this algorithm.\n",
    "\n",
    "`Logistic Regression, Naive Bayes, SVC`\n",
    "\n",
    "For the models we tested in the pipeline, they performed quite well on all 3 traits in comparison to random forest, mostly above 0.7. In this regard, we decide to not explore random forest algorithm for model training and focus on gleaning insights from the remaining 4 models and we will pick the best performing model from there.  \n",
    "\n",
    "`Neural Network`\n",
    "\n",
    "In general, the results are promising and shows that our model generalizes well to unseen data, with maintained high accuracy score on our testing data. \n",
    "\n",
    "---"
   ]
  },
  {
   "attachments": {
    "image-2.png": {
     "image/png": "[encoded data removed]"
    }
   },
   "cell_type": "markdown",
   "metadata": {},
   "source": [
    "Recap of binary class mapping:\n",
    "* S = 1, N = 0\n",
    "* T = 1, F = 0\n",
    "* J = 1, P = 0\n",
    "\n",
    "Based on the above results from testing different modelling algorithms, the models show us how accurately we can predict for \"1\". \n",
    "We will be using `accuracy` as our evaluation metric and the threshold is 0.5 i.e. below 0.5, it will be classified as \"0\"; above 0.5, it will be classified as \"1\". \n",
    "\n",
    "We used Multinomial Naive Bayes as our baseline because it is a model that is known to be good with classification on text data. \n",
    "\n",
    "We have decided to use 2 different model algorithms to predict the 3 traits. We base our decision on (a) highest possible R2 train and R2 test scores and (b) the smallest difference between the R2 train and R2 test scores (c) Difference between the R2 train and cross validation score\n",
    "- S-N trait: Logistic Regression\n",
    "- T-F trait: Logistic Regression\n",
    "- J-P trait: Multinomial Naive Bayes\n",
    "\n",
    "To highlight, for the T/F trait, even though the difference between R2 train and R2 test is smaller with the Multinomial Naive Bayes model, the Logistic Regression difference is just 0.004 more and the overall scores of the R2 train and test is higher so we decided to use Logistic Regression to predict for this.\n",
    "\n",
    "For the J-P trait, although Neural Network accuracy score is the best out of all, in consideration of ease of modelling and computational power as well as the relatively high test loss, we decide to still stick to Multinomial Naive Bayes.\n",
    "\n",
    "Compilation of modelling results (excel sheet is provided too):\n",
    "\n",
    "![image-2.png](attachment:image-2.png)"
   ]
  },
  {
   "cell_type": "markdown",
   "metadata": {},
   "source": [
    "(a) Fit the chosen models onto the respective training datas"
   ]
  },
  {
   "cell_type": "code",
   "execution_count": 46,
   "metadata": {},
   "outputs": [
    {
     "data": {
      "text/plain": [
       "0.8833333333333333"
      ]
     },
     "execution_count": 46,
     "metadata": {},
     "output_type": "execute_result"
    }
   ],
   "source": [
    "# Instantiate model and fit data in\n",
    "model_sn = LogisticRegression()\n",
    "model_sn.fit(X_train_sn_tvec, y_train_sn)\n",
    "\n",
    "# Checking if the R2 test scores coincide with the classification report (sanity check)\n",
    "model_sn.score(X_test_sn_tvec, y_test_sn)"
   ]
  },
  {
   "cell_type": "code",
   "execution_count": 47,
   "metadata": {},
   "outputs": [
    {
     "data": {
      "text/plain": [
       "0.9033333333333333"
      ]
     },
     "execution_count": 47,
     "metadata": {},
     "output_type": "execute_result"
    }
   ],
   "source": [
    "# Instantiate model and fit data in\n",
    "model_tf = LogisticRegression()\n",
    "model_tf.fit(X_train_tf_tvec, y_train_tf)\n",
    "\n",
    "# Checking if the R2 test scores coincide with the classification report (sanity check)\n",
    "model_tf.score(X_test_tf_tvec, y_test_tf)"
   ]
  },
  {
   "cell_type": "code",
   "execution_count": 48,
   "metadata": {},
   "outputs": [
    {
     "data": {
      "text/plain": [
       "0.7933333333333333"
      ]
     },
     "execution_count": 48,
     "metadata": {},
     "output_type": "execute_result"
    }
   ],
   "source": [
    "# Instantiate model and fit data in\n",
    "model_jp = MultinomialNB()\n",
    "model_jp.fit(X_train_jp_tvec, y_train_jp)\n",
    "\n",
    "# Checking if the R2 test scores coincide with the classification report (sanity check)\n",
    "model_jp.score(X_test_jp_tvec, y_test_jp)"
   ]
  },
  {
   "cell_type": "markdown",
   "metadata": {},
   "source": [
    "(b) Saving models in .pkl files"
   ]
  },
  {
   "cell_type": "code",
   "execution_count": 49,
   "metadata": {},
   "outputs": [
    {
     "data": {
      "text/plain": [
       "['./pkl_files/model_jp.pkl']"
      ]
     },
     "execution_count": 49,
     "metadata": {},
     "output_type": "execute_result"
    }
   ],
   "source": [
    "# Saving models as .pkl files\n",
    "\n",
    "joblib.dump(model_sn, \"./pkl_files/model_sn.pkl\")\n",
    "joblib.dump(model_tf, \"./pkl_files/model_tf.pkl\")\n",
    "joblib.dump(model_jp, \"./pkl_files/model_jp.pkl\")"
   ]
  },
  {
   "cell_type": "markdown",
   "metadata": {},
   "source": [
    "**Summary:**\n",
    "\n",
    "The .pkl files will be used in Notebook 5 where we will import it in and use the Linkedin dataset to predict the MBTI model and provide a recommendation based on a user's text input."
   ]
  }
 ],
 "metadata": {
  "kernelspec": {
   "display_name": "doodlesvivo",
   "language": "python",
   "name": "python3"
  },
  "language_info": {
   "codemirror_mode": {
    "name": "ipython",
    "version": 3
   },
   "file_extension": ".py",
   "mimetype": "text/x-python",
   "name": "python",
   "nbconvert_exporter": "python",
   "pygments_lexer": "ipython3",
   "version": "3.11.5"
  }
 },
 "nbformat": 4,
 "nbformat_minor": 2
}
