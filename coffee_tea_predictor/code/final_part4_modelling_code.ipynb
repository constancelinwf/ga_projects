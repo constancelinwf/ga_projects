{
 "cells": [
  {
   "cell_type": "markdown",
   "metadata": {},
   "source": [
    "# ![](https://ga-dash.s3.amazonaws.com/production/assets/logo-9f88ae6c9c3871690e33280fcf557f33.png) Project 3: Web APIs & NLP"
   ]
  },
  {
   "cell_type": "markdown",
   "metadata": {},
   "source": [
    "--- \n",
    "\n",
    "*Group 3* | *Team Members: Constance, Wenzhe, Matthew, Joel*\n",
    "\n",
    "### <b> Notebook 4: Classification Analyses </b>\n",
    "\n",
    "<b>(a) Overview of Notebook 4 </b>\n",
    "\n",
    "In part 1, we will perform lemmatization on our corpus, removal of unncessary characters as well as stop words, making use of lemmatizers as well as vectorizers. For vectorizers we will use both Count Vectorizer and the TF-IDF Vectorizer.\n",
    "\n",
    "\n",
    "In part 2, we will be using the 4 modelling algorithms for classification analyses:\n",
    "1. Naive Bayes with Count Vectorizer\n",
    "2. Naive Bayes with TD-IDF Vectorizer\n",
    "3. Random Forest with Count Vectorizer\n",
    "4. Random Forest with TD-IDF Vectorizer\n",
    "5. Gradient Boosting\n",
    "\n",
    "For each modelling algorithm, we will run the following matrices and a classification report to see how well it did for classification:\n",
    "- Accuracy \n",
    "- Specificity\n",
    "- Recall\n",
    "- Precision\n",
    "- F1-score\n",
    "\n",
    "<br>\n",
    "\n",
    "<b>(b) Structure of Notebook 4</b>\n",
    "\n",
    "* Part 1: Preprocessing the Corpus\n",
    "    - Adding labels to respective subreddit comments\n",
    "    - Lemmatization and Removal of Unnecessary Characters\n",
    "    - Word Vectorization (includes removal of stop words)\n",
    "* Part 2: Modelling\n",
    "    - Naive Bayes with Count Vectorizer\n",
    "    - Naive Bayes with TD-IDF Vectorizer\n",
    "    - Random Forest with Count Vectorizer\n",
    "    - Random Forest with TD-IDF Vectorizer\n",
    "    - Gradient Boosting with Count Vectorizer\n",
    "* Part 3: Choosing our Model & Deployment onto Streamlit\n",
    "    - Save chosen model into a .pkl file\n",
    "    - Save chosen vectorizer into a .pkl file"
   ]
  },
  {
   "cell_type": "markdown",
   "metadata": {},
   "source": [
    "\n",
    "---\n",
    "\n",
    "### Import Libraries & Read Cleaned Data"
   ]
  },
  {
   "cell_type": "code",
   "execution_count": 1,
   "metadata": {},
   "outputs": [],
   "source": [
    "# Standard imports\n",
    "import numpy as np\n",
    "import pandas as pd\n",
    "\n",
    "\n",
    "# Preprocessing imports\n",
    "import re\n",
    "from nltk.corpus import stopwords\n",
    "from nltk.stem import WordNetLemmatizer\n",
    "from nltk.tokenize import RegexpTokenizer\n",
    "from sklearn.feature_extraction.text import CountVectorizer, TfidfVectorizer\n",
    "\n",
    "\n",
    "# Modelling imports\n",
    "from sklearn.pipeline import Pipeline\n",
    "from sklearn.model_selection import train_test_split, cross_val_score, GridSearchCV\n",
    "from sklearn.metrics import confusion_matrix\n",
    "from sklearn.metrics import  recall_score, precision_score, f1_score\n",
    "from sklearn.metrics import classification_report\n",
    "from sklearn.naive_bayes import MultinomialNB\n",
    "from sklearn.ensemble import RandomForestClassifier, GradientBoostingClassifier"
   ]
  },
  {
   "cell_type": "code",
   "execution_count": 2,
   "metadata": {},
   "outputs": [],
   "source": [
    "# Read cleaned coffee and tea datasets\n",
    "df_coffee = pd.read_csv(\"cleaned_data/coffee_comments_clean_merged_filtered.csv\")\n",
    "df_tea    = pd.read_csv(\"cleaned_data/tea_comments_clean_merged_filtered.csv\")"
   ]
  },
  {
   "cell_type": "code",
   "execution_count": 3,
   "metadata": {},
   "outputs": [
    {
     "data": {
      "text/html": [
       "<div>\n",
       "<style scoped>\n",
       "    .dataframe tbody tr th:only-of-type {\n",
       "        vertical-align: middle;\n",
       "    }\n",
       "\n",
       "    .dataframe tbody tr th {\n",
       "        vertical-align: top;\n",
       "    }\n",
       "\n",
       "    .dataframe thead th {\n",
       "        text-align: right;\n",
       "    }\n",
       "</style>\n",
       "<table border=\"1\" class=\"dataframe\">\n",
       "  <thead>\n",
       "    <tr style=\"text-align: right;\">\n",
       "      <th></th>\n",
       "      <th>thread_id</th>\n",
       "      <th>comment_id</th>\n",
       "      <th>comment_text</th>\n",
       "      <th>comment_score</th>\n",
       "      <th>author_name</th>\n",
       "      <th>id</th>\n",
       "      <th>title</th>\n",
       "      <th>score</th>\n",
       "      <th>num_comments</th>\n",
       "      <th>post_hint</th>\n",
       "      <th>self_text</th>\n",
       "      <th>author_name_thread</th>\n",
       "      <th>url</th>\n",
       "      <th>url_is_media</th>\n",
       "      <th>comment_score_top_or_bottom_4</th>\n",
       "    </tr>\n",
       "  </thead>\n",
       "  <tbody>\n",
       "    <tr>\n",
       "      <th>0</th>\n",
       "      <td>19agk2c</td>\n",
       "      <td>kikp8lv</td>\n",
       "      <td>Hi! I’m a morning coffee drinker but I never m...</td>\n",
       "      <td>2</td>\n",
       "      <td>testingpage2025</td>\n",
       "      <td>19agk2c</td>\n",
       "      <td>[MOD] The Daily Question Thread</td>\n",
       "      <td>2</td>\n",
       "      <td>58</td>\n",
       "      <td>NaN</td>\n",
       "      <td>\\n\\nWelcome to the daily [/r/Coffee](https://...</td>\n",
       "      <td>menschmaschine5</td>\n",
       "      <td>https://www.reddit.com/r/Coffee/comments/19agk...</td>\n",
       "      <td>0</td>\n",
       "      <td>1</td>\n",
       "    </tr>\n",
       "    <tr>\n",
       "      <th>1</th>\n",
       "      <td>19agk2c</td>\n",
       "      <td>kikxhmz</td>\n",
       "      <td>Any Scooters employees around? I need to know ...</td>\n",
       "      <td>2</td>\n",
       "      <td>Ok_Bet_2634</td>\n",
       "      <td>19agk2c</td>\n",
       "      <td>[MOD] The Daily Question Thread</td>\n",
       "      <td>2</td>\n",
       "      <td>58</td>\n",
       "      <td>NaN</td>\n",
       "      <td>\\n\\nWelcome to the daily [/r/Coffee](https://...</td>\n",
       "      <td>menschmaschine5</td>\n",
       "      <td>https://www.reddit.com/r/Coffee/comments/19agk...</td>\n",
       "      <td>0</td>\n",
       "      <td>1</td>\n",
       "    </tr>\n",
       "  </tbody>\n",
       "</table>\n",
       "</div>"
      ],
      "text/plain": [
       "  thread_id comment_id                                       comment_text  \\\n",
       "0   19agk2c    kikp8lv  Hi! I’m a morning coffee drinker but I never m...   \n",
       "1   19agk2c    kikxhmz  Any Scooters employees around? I need to know ...   \n",
       "\n",
       "   comment_score      author_name       id                            title  \\\n",
       "0              2  testingpage2025  19agk2c  [MOD] The Daily Question Thread   \n",
       "1              2      Ok_Bet_2634  19agk2c  [MOD] The Daily Question Thread   \n",
       "\n",
       "   score  num_comments post_hint  \\\n",
       "0      2            58       NaN   \n",
       "1      2            58       NaN   \n",
       "\n",
       "                                           self_text author_name_thread  \\\n",
       "0   \\n\\nWelcome to the daily [/r/Coffee](https://...    menschmaschine5   \n",
       "1   \\n\\nWelcome to the daily [/r/Coffee](https://...    menschmaschine5   \n",
       "\n",
       "                                                 url  url_is_media  \\\n",
       "0  https://www.reddit.com/r/Coffee/comments/19agk...             0   \n",
       "1  https://www.reddit.com/r/Coffee/comments/19agk...             0   \n",
       "\n",
       "   comment_score_top_or_bottom_4  \n",
       "0                              1  \n",
       "1                              1  "
      ]
     },
     "execution_count": 3,
     "metadata": {},
     "output_type": "execute_result"
    }
   ],
   "source": [
    "df_coffee.head(2)"
   ]
  },
  {
   "cell_type": "code",
   "execution_count": 4,
   "metadata": {},
   "outputs": [
    {
     "data": {
      "text/html": [
       "<div>\n",
       "<style scoped>\n",
       "    .dataframe tbody tr th:only-of-type {\n",
       "        vertical-align: middle;\n",
       "    }\n",
       "\n",
       "    .dataframe tbody tr th {\n",
       "        vertical-align: top;\n",
       "    }\n",
       "\n",
       "    .dataframe thead th {\n",
       "        text-align: right;\n",
       "    }\n",
       "</style>\n",
       "<table border=\"1\" class=\"dataframe\">\n",
       "  <thead>\n",
       "    <tr style=\"text-align: right;\">\n",
       "      <th></th>\n",
       "      <th>thread_id</th>\n",
       "      <th>comment_id</th>\n",
       "      <th>comment_text</th>\n",
       "      <th>comment_score</th>\n",
       "      <th>author_name</th>\n",
       "      <th>id</th>\n",
       "      <th>title</th>\n",
       "      <th>score</th>\n",
       "      <th>num_comments</th>\n",
       "      <th>post_hint</th>\n",
       "      <th>self_text</th>\n",
       "      <th>author_name_thread</th>\n",
       "      <th>url</th>\n",
       "      <th>url_is_media</th>\n",
       "      <th>comment_score_top_or_bottom_4</th>\n",
       "    </tr>\n",
       "  </thead>\n",
       "  <tbody>\n",
       "    <tr>\n",
       "      <th>0</th>\n",
       "      <td>199pmki</td>\n",
       "      <td>kifj4sk</td>\n",
       "      <td>After a rough few days here in Oregon, the mor...</td>\n",
       "      <td>8</td>\n",
       "      <td>oldhippy1947</td>\n",
       "      <td>199pmki</td>\n",
       "      <td>What's in your cup? Daily discussion, question...</td>\n",
       "      <td>5</td>\n",
       "      <td>18</td>\n",
       "      <td>NaN</td>\n",
       "      <td>What are you drinking today? What questions ha...</td>\n",
       "      <td>AutoModerator</td>\n",
       "      <td>https://www.reddit.com/r/tea/comments/199pmki/...</td>\n",
       "      <td>0</td>\n",
       "      <td>1</td>\n",
       "    </tr>\n",
       "    <tr>\n",
       "      <th>1</th>\n",
       "      <td>199pmki</td>\n",
       "      <td>kifik9x</td>\n",
       "      <td>Finishing the last of my Kabusecha from hibiki...</td>\n",
       "      <td>6</td>\n",
       "      <td>42AMSW</td>\n",
       "      <td>199pmki</td>\n",
       "      <td>What's in your cup? Daily discussion, question...</td>\n",
       "      <td>5</td>\n",
       "      <td>18</td>\n",
       "      <td>NaN</td>\n",
       "      <td>What are you drinking today? What questions ha...</td>\n",
       "      <td>AutoModerator</td>\n",
       "      <td>https://www.reddit.com/r/tea/comments/199pmki/...</td>\n",
       "      <td>0</td>\n",
       "      <td>1</td>\n",
       "    </tr>\n",
       "  </tbody>\n",
       "</table>\n",
       "</div>"
      ],
      "text/plain": [
       "  thread_id comment_id                                       comment_text  \\\n",
       "0   199pmki    kifj4sk  After a rough few days here in Oregon, the mor...   \n",
       "1   199pmki    kifik9x  Finishing the last of my Kabusecha from hibiki...   \n",
       "\n",
       "   comment_score   author_name       id  \\\n",
       "0              8  oldhippy1947  199pmki   \n",
       "1              6        42AMSW  199pmki   \n",
       "\n",
       "                                               title  score  num_comments  \\\n",
       "0  What's in your cup? Daily discussion, question...      5            18   \n",
       "1  What's in your cup? Daily discussion, question...      5            18   \n",
       "\n",
       "  post_hint                                          self_text  \\\n",
       "0       NaN  What are you drinking today? What questions ha...   \n",
       "1       NaN  What are you drinking today? What questions ha...   \n",
       "\n",
       "  author_name_thread                                                url  \\\n",
       "0      AutoModerator  https://www.reddit.com/r/tea/comments/199pmki/...   \n",
       "1      AutoModerator  https://www.reddit.com/r/tea/comments/199pmki/...   \n",
       "\n",
       "   url_is_media  comment_score_top_or_bottom_4  \n",
       "0             0                              1  \n",
       "1             0                              1  "
      ]
     },
     "execution_count": 4,
     "metadata": {},
     "output_type": "execute_result"
    }
   ],
   "source": [
    "df_tea.head(2)"
   ]
  },
  {
   "cell_type": "markdown",
   "metadata": {},
   "source": [
    "### Part 1: Preprocessing the corpus\n",
    "<br>\n",
    "<b>(a) Adding labels to identify coffee or tea comments </b>"
   ]
  },
  {
   "cell_type": "code",
   "execution_count": 5,
   "metadata": {},
   "outputs": [
    {
     "data": {
      "text/html": [
       "<div>\n",
       "<style scoped>\n",
       "    .dataframe tbody tr th:only-of-type {\n",
       "        vertical-align: middle;\n",
       "    }\n",
       "\n",
       "    .dataframe tbody tr th {\n",
       "        vertical-align: top;\n",
       "    }\n",
       "\n",
       "    .dataframe thead th {\n",
       "        text-align: right;\n",
       "    }\n",
       "</style>\n",
       "<table border=\"1\" class=\"dataframe\">\n",
       "  <thead>\n",
       "    <tr style=\"text-align: right;\">\n",
       "      <th></th>\n",
       "      <th>thread_id</th>\n",
       "      <th>comment_id</th>\n",
       "      <th>comment_text</th>\n",
       "      <th>comment_score</th>\n",
       "      <th>author_name</th>\n",
       "      <th>id</th>\n",
       "      <th>title</th>\n",
       "      <th>score</th>\n",
       "      <th>num_comments</th>\n",
       "      <th>post_hint</th>\n",
       "      <th>self_text</th>\n",
       "      <th>author_name_thread</th>\n",
       "      <th>url</th>\n",
       "      <th>url_is_media</th>\n",
       "      <th>comment_score_top_or_bottom_4</th>\n",
       "      <th>subreddit_coffee</th>\n",
       "    </tr>\n",
       "  </thead>\n",
       "  <tbody>\n",
       "    <tr>\n",
       "      <th>0</th>\n",
       "      <td>19agk2c</td>\n",
       "      <td>kikp8lv</td>\n",
       "      <td>Hi! I’m a morning coffee drinker but I never m...</td>\n",
       "      <td>2</td>\n",
       "      <td>testingpage2025</td>\n",
       "      <td>19agk2c</td>\n",
       "      <td>[MOD] The Daily Question Thread</td>\n",
       "      <td>2</td>\n",
       "      <td>58</td>\n",
       "      <td>NaN</td>\n",
       "      <td>\\n\\nWelcome to the daily [/r/Coffee](https://...</td>\n",
       "      <td>menschmaschine5</td>\n",
       "      <td>https://www.reddit.com/r/Coffee/comments/19agk...</td>\n",
       "      <td>0</td>\n",
       "      <td>1</td>\n",
       "      <td>1</td>\n",
       "    </tr>\n",
       "  </tbody>\n",
       "</table>\n",
       "</div>"
      ],
      "text/plain": [
       "  thread_id comment_id                                       comment_text  \\\n",
       "0   19agk2c    kikp8lv  Hi! I’m a morning coffee drinker but I never m...   \n",
       "\n",
       "   comment_score      author_name       id                            title  \\\n",
       "0              2  testingpage2025  19agk2c  [MOD] The Daily Question Thread   \n",
       "\n",
       "   score  num_comments post_hint  \\\n",
       "0      2            58       NaN   \n",
       "\n",
       "                                           self_text author_name_thread  \\\n",
       "0   \\n\\nWelcome to the daily [/r/Coffee](https://...    menschmaschine5   \n",
       "\n",
       "                                                 url  url_is_media  \\\n",
       "0  https://www.reddit.com/r/Coffee/comments/19agk...             0   \n",
       "\n",
       "   comment_score_top_or_bottom_4  subreddit_coffee  \n",
       "0                              1                 1  "
      ]
     },
     "execution_count": 5,
     "metadata": {},
     "output_type": "execute_result"
    }
   ],
   "source": [
    "# Add \"coffee/tea\" subreddit identifer\n",
    "df_coffee[\"subreddit_coffee\"] = 1\n",
    "df_tea[\"subreddit_coffee\"] = 0 \n",
    "\n",
    "# Append to one common dataframe, df_coffee_tea\n",
    "df_coffee_tea = pd.concat(objs = [df_coffee, df_tea], axis=0)\n",
    "df_coffee_tea.reset_index(drop = True, inplace = True)\n",
    "df_coffee_tea.head(1)"
   ]
  },
  {
   "cell_type": "markdown",
   "metadata": {},
   "source": [
    "<b>(b) Lemmatizing and removal of unncessary characters using a function</b>"
   ]
  },
  {
   "cell_type": "code",
   "execution_count": 6,
   "metadata": {},
   "outputs": [],
   "source": [
    "# Instantiate stopwords and lemmatizer\n",
    "stop_words = list(stopwords.words(\"english\"))\n",
    "lemmatizer = WordNetLemmatizer()\n",
    "\n",
    "# Define a function to process our sentences \n",
    "def process_sentences(sentence):\n",
    "\n",
    "    # 1. Tokenize sentence \n",
    "    # a. only retain pre-apostrophe portion of words (e.g., \"we\" from \"we'll\"))\n",
    "    sentence = \" \" + str(sentence)\n",
    "    sentence = sentence.lower()\n",
    "\n",
    "    tokenizer_regex = RegexpTokenizer(\"\\s[\\w]+\")\n",
    "    sentence_tokens_initial = tokenizer_regex.tokenize(sentence)\n",
    "    sentence_tokens_revised = [token.strip() for token in sentence_tokens_initial]    \n",
    "\n",
    "    # 2. Remove tokens that are stop words\n",
    "    for stop_word in stop_words:\n",
    "        while stop_word in sentence_tokens_revised:\n",
    "            sentence_tokens_revised.remove(stop_word)\n",
    "\n",
    "    # 3. Lemmatize tokens\n",
    "    sentence_tokens_revised = [lemmatizer.lemmatize(token) for token in sentence_tokens_revised]\n",
    "\n",
    "    # 4. Rebuild sentence based on processed tokens\n",
    "    sentence_processed = \" \".join(sentence_tokens_revised)\n",
    "\n",
    "    return sentence_processed"
   ]
  },
  {
   "cell_type": "code",
   "execution_count": 7,
   "metadata": {},
   "outputs": [
    {
     "data": {
      "text/html": [
       "<div>\n",
       "<style scoped>\n",
       "    .dataframe tbody tr th:only-of-type {\n",
       "        vertical-align: middle;\n",
       "    }\n",
       "\n",
       "    .dataframe tbody tr th {\n",
       "        vertical-align: top;\n",
       "    }\n",
       "\n",
       "    .dataframe thead th {\n",
       "        text-align: right;\n",
       "    }\n",
       "</style>\n",
       "<table border=\"1\" class=\"dataframe\">\n",
       "  <thead>\n",
       "    <tr style=\"text-align: right;\">\n",
       "      <th></th>\n",
       "      <th>comment_text</th>\n",
       "      <th>comment_text_processed</th>\n",
       "    </tr>\n",
       "  </thead>\n",
       "  <tbody>\n",
       "    <tr>\n",
       "      <th>0</th>\n",
       "      <td>Hi! I’m a morning coffee drinker but I never m...</td>\n",
       "      <td>hi morning coffee drinker never make home one ...</td>\n",
       "    </tr>\n",
       "    <tr>\n",
       "      <th>1</th>\n",
       "      <td>Any Scooters employees around? I need to know ...</td>\n",
       "      <td>scooter employee around need know buy ice crea...</td>\n",
       "    </tr>\n",
       "    <tr>\n",
       "      <th>2</th>\n",
       "      <td>I can't find a pumpkin spice latte recipe that...</td>\n",
       "      <td>find pumpkin spice latte recipe pumpkin spice ...</td>\n",
       "    </tr>\n",
       "  </tbody>\n",
       "</table>\n",
       "</div>"
      ],
      "text/plain": [
       "                                        comment_text  \\\n",
       "0  Hi! I’m a morning coffee drinker but I never m...   \n",
       "1  Any Scooters employees around? I need to know ...   \n",
       "2  I can't find a pumpkin spice latte recipe that...   \n",
       "\n",
       "                              comment_text_processed  \n",
       "0  hi morning coffee drinker never make home one ...  \n",
       "1  scooter employee around need know buy ice crea...  \n",
       "2  find pumpkin spice latte recipe pumpkin spice ...  "
      ]
     },
     "execution_count": 7,
     "metadata": {},
     "output_type": "execute_result"
    }
   ],
   "source": [
    "# Invoke function on our dataframe\n",
    "# Add a new column to show the processed text\n",
    "df_coffee_tea[\"comment_text_processed\"] = df_coffee_tea[\"comment_text\"].apply(process_sentences)\n",
    "df_coffee_tea[[\"comment_text\", \"comment_text_processed\"]].head(3)"
   ]
  },
  {
   "cell_type": "markdown",
   "metadata": {},
   "source": [
    "<b>(c) Word Vectorization </b>"
   ]
  },
  {
   "cell_type": "markdown",
   "metadata": {},
   "source": [
    "We will be using Count Vectorizer and TFIDF Vectorizer. \n",
    "\n",
    "For both vectorizers, they have inbuild hyperparameters to:\n",
    "\n",
    "1. lower case our individual words: lowercase\n",
    "2. remove stop words: stop_words = \"english\"\n",
    "3. perform n_grams - we will do (1,2) n-grams: ngram_range\n",
    "4. ignore words that are below the minimum frequency in our corpus: min_df\n",
    "5. set a maxminum number of features we want: max_features"
   ]
  },
  {
   "cell_type": "code",
   "execution_count": 8,
   "metadata": {},
   "outputs": [
    {
     "data": {
      "text/html": [
       "<div>\n",
       "<style scoped>\n",
       "    .dataframe tbody tr th:only-of-type {\n",
       "        vertical-align: middle;\n",
       "    }\n",
       "\n",
       "    .dataframe tbody tr th {\n",
       "        vertical-align: top;\n",
       "    }\n",
       "\n",
       "    .dataframe thead th {\n",
       "        text-align: right;\n",
       "    }\n",
       "</style>\n",
       "<table border=\"1\" class=\"dataframe\">\n",
       "  <thead>\n",
       "    <tr style=\"text-align: right;\">\n",
       "      <th></th>\n",
       "      <th>thread_id</th>\n",
       "      <th>comment_id</th>\n",
       "      <th>comment_text</th>\n",
       "      <th>comment_score</th>\n",
       "      <th>author_name</th>\n",
       "      <th>id</th>\n",
       "      <th>title</th>\n",
       "      <th>score</th>\n",
       "      <th>num_comments</th>\n",
       "      <th>post_hint</th>\n",
       "      <th>self_text</th>\n",
       "      <th>author_name_thread</th>\n",
       "      <th>url</th>\n",
       "      <th>url_is_media</th>\n",
       "      <th>comment_score_top_or_bottom_4</th>\n",
       "      <th>subreddit_coffee</th>\n",
       "      <th>comment_text_processed</th>\n",
       "    </tr>\n",
       "  </thead>\n",
       "  <tbody>\n",
       "    <tr>\n",
       "      <th>0</th>\n",
       "      <td>19agk2c</td>\n",
       "      <td>kikp8lv</td>\n",
       "      <td>Hi! I’m a morning coffee drinker but I never m...</td>\n",
       "      <td>2</td>\n",
       "      <td>testingpage2025</td>\n",
       "      <td>19agk2c</td>\n",
       "      <td>[MOD] The Daily Question Thread</td>\n",
       "      <td>2</td>\n",
       "      <td>58</td>\n",
       "      <td>NaN</td>\n",
       "      <td>\\n\\nWelcome to the daily [/r/Coffee](https://...</td>\n",
       "      <td>menschmaschine5</td>\n",
       "      <td>https://www.reddit.com/r/Coffee/comments/19agk...</td>\n",
       "      <td>0</td>\n",
       "      <td>1</td>\n",
       "      <td>1</td>\n",
       "      <td>hi morning coffee drinker never make home one ...</td>\n",
       "    </tr>\n",
       "    <tr>\n",
       "      <th>1</th>\n",
       "      <td>19agk2c</td>\n",
       "      <td>kikxhmz</td>\n",
       "      <td>Any Scooters employees around? I need to know ...</td>\n",
       "      <td>2</td>\n",
       "      <td>Ok_Bet_2634</td>\n",
       "      <td>19agk2c</td>\n",
       "      <td>[MOD] The Daily Question Thread</td>\n",
       "      <td>2</td>\n",
       "      <td>58</td>\n",
       "      <td>NaN</td>\n",
       "      <td>\\n\\nWelcome to the daily [/r/Coffee](https://...</td>\n",
       "      <td>menschmaschine5</td>\n",
       "      <td>https://www.reddit.com/r/Coffee/comments/19agk...</td>\n",
       "      <td>0</td>\n",
       "      <td>1</td>\n",
       "      <td>1</td>\n",
       "      <td>scooter employee around need know buy ice crea...</td>\n",
       "    </tr>\n",
       "  </tbody>\n",
       "</table>\n",
       "</div>"
      ],
      "text/plain": [
       "  thread_id comment_id                                       comment_text  \\\n",
       "0   19agk2c    kikp8lv  Hi! I’m a morning coffee drinker but I never m...   \n",
       "1   19agk2c    kikxhmz  Any Scooters employees around? I need to know ...   \n",
       "\n",
       "   comment_score      author_name       id                            title  \\\n",
       "0              2  testingpage2025  19agk2c  [MOD] The Daily Question Thread   \n",
       "1              2      Ok_Bet_2634  19agk2c  [MOD] The Daily Question Thread   \n",
       "\n",
       "   score  num_comments post_hint  \\\n",
       "0      2            58       NaN   \n",
       "1      2            58       NaN   \n",
       "\n",
       "                                           self_text author_name_thread  \\\n",
       "0   \\n\\nWelcome to the daily [/r/Coffee](https://...    menschmaschine5   \n",
       "1   \\n\\nWelcome to the daily [/r/Coffee](https://...    menschmaschine5   \n",
       "\n",
       "                                                 url  url_is_media  \\\n",
       "0  https://www.reddit.com/r/Coffee/comments/19agk...             0   \n",
       "1  https://www.reddit.com/r/Coffee/comments/19agk...             0   \n",
       "\n",
       "   comment_score_top_or_bottom_4  subreddit_coffee  \\\n",
       "0                              1                 1   \n",
       "1                              1                 1   \n",
       "\n",
       "                              comment_text_processed  \n",
       "0  hi morning coffee drinker never make home one ...  \n",
       "1  scooter employee around need know buy ice crea...  "
      ]
     },
     "execution_count": 8,
     "metadata": {},
     "output_type": "execute_result"
    }
   ],
   "source": [
    "df_coffee_tea.head(2)"
   ]
  },
  {
   "cell_type": "code",
   "execution_count": 9,
   "metadata": {},
   "outputs": [],
   "source": [
    "# Define X and y variables\n",
    "X = df_coffee_tea[\"comment_text_processed\"] \n",
    "y = df_coffee_tea[\"subreddit_coffee\"]\n",
    "\n",
    "# Perform train-test split\n",
    "X_train, X_test, y_train, y_test = train_test_split(X, y, test_size = 0.25, stratify = y, random_state = 42)"
   ]
  },
  {
   "cell_type": "markdown",
   "metadata": {},
   "source": [
    "_Count Vectorizer (with top-30-word plot included) on Trained Data_"
   ]
  },
  {
   "cell_type": "code",
   "execution_count": 10,
   "metadata": {},
   "outputs": [
    {
     "data": {
      "text/plain": [
       "<Axes: >"
      ]
     },
     "execution_count": 10,
     "metadata": {},
     "output_type": "execute_result"
    },
    {
     "data": {
      "image/png": "[encoded data removed]",
      "text/plain": [
       "<Figure size 640x480 with 1 Axes>"
      ]
     },
     "metadata": {},
     "output_type": "display_data"
    }
   ],
   "source": [
    "# Instantiate CountVectorizer\n",
    "cvec = CountVectorizer(lowercase = True, stop_words = \"english\", ngram_range = (1,2), max_features = 250, min_df = 5)\n",
    "\n",
    "# Fit the vectorizer on our X_train corpus, and transform the corpus\n",
    "X_train_cvec = cvec.fit_transform(X_train)\n",
    "\n",
    "# Convert training data to dataframe\n",
    "X_train_cvec_df = pd.DataFrame(X_train_cvec.todense(), columns = cvec.get_feature_names_out())\n",
    "\n",
    "# Plot top 20 occuring words\n",
    "X_train_cvec_df.sum().sort_values(ascending = False).head(30).plot(kind = \"barh\")"
   ]
  },
  {
   "cell_type": "markdown",
   "metadata": {},
   "source": [
    "_Count Vectorizer (with top-30-word plot included) on Test Data_"
   ]
  },
  {
   "cell_type": "code",
   "execution_count": 11,
   "metadata": {},
   "outputs": [
    {
     "data": {
      "text/plain": [
       "<Axes: >"
      ]
     },
     "execution_count": 11,
     "metadata": {},
     "output_type": "execute_result"
    },
    {
     "data": {
      "image/png": "[encoded data removed]",
      "text/plain": [
       "<Figure size 640x480 with 1 Axes>"
      ]
     },
     "metadata": {},
     "output_type": "display_data"
    }
   ],
   "source": [
    "# Transform the X_test corpus\n",
    "X_test_cvec = cvec.transform(X_test)\n",
    "\n",
    "# Convert training data to dataframe\n",
    "X_test_cvec_df = pd.DataFrame(X_test_cvec.todense(), columns = cvec.get_feature_names_out())\n",
    "\n",
    "# Plot top 20 occuring words\n",
    "X_test_cvec_df.sum().sort_values(ascending = False).head(30).plot(kind = \"barh\")"
   ]
  },
  {
   "cell_type": "markdown",
   "metadata": {},
   "source": [
    "_TD-IDF Vectorizer (with top-30-word plot included) on Trained Data_"
   ]
  },
  {
   "cell_type": "code",
   "execution_count": 12,
   "metadata": {},
   "outputs": [
    {
     "data": {
      "text/plain": [
       "<Axes: >"
      ]
     },
     "execution_count": 12,
     "metadata": {},
     "output_type": "execute_result"
    },
    {
     "data": {
      "image/png": "[encoded data removed]",
      "text/plain": [
       "<Figure size 640x480 with 1 Axes>"
      ]
     },
     "metadata": {},
     "output_type": "display_data"
    }
   ],
   "source": [
    "# Instantiate TF-IDF Vectorizer\n",
    "tvec = TfidfVectorizer(lowercase = True, stop_words = \"english\", ngram_range = (1,2), max_features = 250, min_df = 5)\n",
    "\n",
    "# Fit the vectorizer on our X_train corpus, and transform the corpus\n",
    "X_train_tvec = tvec.fit_transform(X_train)\n",
    "\n",
    "# Convert training data to dataframe\n",
    "X_train_tvec_df = pd.DataFrame(X_train_tvec.todense(), columns = tvec.get_feature_names_out())\n",
    "\n",
    "# Plot top 20 occuring words\n",
    "X_train_tvec_df.sum().sort_values(ascending = False).head(30).plot(kind = \"barh\")"
   ]
  },
  {
   "cell_type": "markdown",
   "metadata": {},
   "source": [
    "_TD-IDF Vectorizer (with top-30-word plot included) on Test Data_"
   ]
  },
  {
   "cell_type": "code",
   "execution_count": 13,
   "metadata": {},
   "outputs": [
    {
     "data": {
      "text/plain": [
       "<Axes: >"
      ]
     },
     "execution_count": 13,
     "metadata": {},
     "output_type": "execute_result"
    },
    {
     "data": {
      "image/png": "[encoded data removed]",
      "text/plain": [
       "<Figure size 640x480 with 1 Axes>"
      ]
     },
     "metadata": {},
     "output_type": "display_data"
    }
   ],
   "source": [
    "# Fit the vectorizer on our X_test corpus, and transform the corpus\n",
    "X_test_tvec = tvec.fit_transform(X_test)\n",
    "\n",
    "# Convert training data to dataframe\n",
    "X_test_tvec_df = pd.DataFrame(X_test_tvec.todense(), columns = tvec.get_feature_names_out())\n",
    "\n",
    "# Plot top 20 occuring words\n",
    "X_test_tvec_df.sum().sort_values(ascending = False).head(30).plot(kind = \"barh\")"
   ]
  },
  {
   "cell_type": "markdown",
   "metadata": {},
   "source": [
    "### Part 2: Modelling"
   ]
  },
  {
   "cell_type": "markdown",
   "metadata": {},
   "source": [
    "##### <b>1. Multinomial Naive Bayes with Count Vectorizer</b>"
   ]
  },
  {
   "cell_type": "code",
   "execution_count": 14,
   "metadata": {},
   "outputs": [],
   "source": [
    "# Instantiate the naive bayes model\n",
    "nb = MultinomialNB()\n",
    "\n",
    "# Fit the model\n",
    "model_cvec = nb.fit(X_train_cvec, y_train)\n",
    "\n",
    "# Get predictions\n",
    "predictions_cvec = model_cvec.predict(X_test_cvec)"
   ]
  },
  {
   "cell_type": "code",
   "execution_count": 15,
   "metadata": {},
   "outputs": [
    {
     "data": {
      "text/plain": [
       "0.8587721768515911"
      ]
     },
     "execution_count": 15,
     "metadata": {},
     "output_type": "execute_result"
    }
   ],
   "source": [
    "# r2 score (accuracy score) on train corpus\n",
    "model_cvec.score(X_train_cvec, y_train)"
   ]
  },
  {
   "cell_type": "code",
   "execution_count": 16,
   "metadata": {},
   "outputs": [
    {
     "data": {
      "text/plain": [
       "0.8581081081081081"
      ]
     },
     "execution_count": 16,
     "metadata": {},
     "output_type": "execute_result"
    }
   ],
   "source": [
    "# r2 score (accuracy score) on test corpus\n",
    "model_cvec.score(X_test_cvec, y_test)"
   ]
  },
  {
   "cell_type": "code",
   "execution_count": 17,
   "metadata": {},
   "outputs": [
    {
     "name": "stdout",
     "output_type": "stream",
     "text": [
      "True Negatives: 1058\n",
      "False Positives: 135\n",
      "False Negatives: 201\n",
      "True Positives: 974\n"
     ]
    }
   ],
   "source": [
    "# Generate the confusion matrix for model_cvec\n",
    "confusion_matrix(y_test, predictions_cvec)\n",
    "\n",
    "# Fix the order of tn, fp, fn, tp\n",
    "tn, fp, fn, tp = confusion_matrix(y_test, predictions_cvec).ravel()\n",
    "\n",
    "# Print the respective results\n",
    "print(\"True Negatives: %s\" % tn)\n",
    "print(\"False Positives: %s\" % fp)\n",
    "print(\"False Negatives: %s\" % fn)\n",
    "print(\"True Positives: %s\" % tp)"
   ]
  },
  {
   "cell_type": "code",
   "execution_count": 18,
   "metadata": {},
   "outputs": [
    {
     "name": "stdout",
     "output_type": "stream",
     "text": [
      "Specificity: 0.8868398994132439\n",
      "Recall: 0.828936170212766\n",
      "Precision: 0.8782687105500451\n",
      "F1 Score: 0.8528896672504378\n"
     ]
    }
   ],
   "source": [
    "# Calculate the specificity, recall, precision and f1-scores for model_cvec\n",
    "specificity = tn / (tn + fp)\n",
    "recall = recall_score(y_test, predictions_cvec)\n",
    "precision = precision_score(y_test, predictions_cvec)\n",
    "harmonic_mean = f1_score(y_test, predictions_cvec)\n",
    "\n",
    "# Print the scores out\n",
    "print(\"Specificity: %s\" % specificity)\n",
    "print(\"Recall: %s\" % recall)\n",
    "print(\"Precision: %s\" % precision)\n",
    "print(\"F1 Score: %s\" % harmonic_mean)"
   ]
  },
  {
   "cell_type": "code",
   "execution_count": 19,
   "metadata": {},
   "outputs": [
    {
     "name": "stdout",
     "output_type": "stream",
     "text": [
      "              precision    recall  f1-score   support\n",
      "\n",
      "           0       0.84      0.89      0.86      1193\n",
      "           1       0.88      0.83      0.85      1175\n",
      "\n",
      "    accuracy                           0.86      2368\n",
      "   macro avg       0.86      0.86      0.86      2368\n",
      "weighted avg       0.86      0.86      0.86      2368\n",
      "\n"
     ]
    }
   ],
   "source": [
    "# Classification report for Naive Bayes (Count Vectorizer)\n",
    "print(classification_report(y_test, predictions_cvec))"
   ]
  },
  {
   "cell_type": "markdown",
   "metadata": {},
   "source": [
    "##### <b>2. Multinomial Naive Bayes with TD-IDF Vectorizer</b>"
   ]
  },
  {
   "cell_type": "code",
   "execution_count": 20,
   "metadata": {},
   "outputs": [],
   "source": [
    "# Fit the model\n",
    "model_tvec = nb.fit(X_train_tvec, y_train)\n",
    "\n",
    "# Get predictions\n",
    "predictions_tvec = model_tvec.predict(X_test_tvec)"
   ]
  },
  {
   "cell_type": "code",
   "execution_count": 21,
   "metadata": {},
   "outputs": [
    {
     "data": {
      "text/plain": [
       "0.8590537876654464"
      ]
     },
     "execution_count": 21,
     "metadata": {},
     "output_type": "execute_result"
    }
   ],
   "source": [
    "# r2 score (accuracy score) on train corpus\n",
    "model_tvec.score(X_train_tvec, y_train)"
   ]
  },
  {
   "cell_type": "code",
   "execution_count": 22,
   "metadata": {},
   "outputs": [
    {
     "data": {
      "text/plain": [
       "0.7111486486486487"
      ]
     },
     "execution_count": 22,
     "metadata": {},
     "output_type": "execute_result"
    }
   ],
   "source": [
    "# r2 score (accuracy score) on test corpus\n",
    "model_tvec.score(X_test_tvec, y_test)"
   ]
  },
  {
   "cell_type": "code",
   "execution_count": 23,
   "metadata": {},
   "outputs": [
    {
     "name": "stdout",
     "output_type": "stream",
     "text": [
      "True Negatives: 794\n",
      "False Positives: 399\n",
      "False Negatives: 285\n",
      "True Positives: 890\n"
     ]
    }
   ],
   "source": [
    "# Generate the confusion matrix for model_tvec\n",
    "confusion_matrix(y_test, predictions_tvec)\n",
    "\n",
    "# Fix the order of tn, fp, fn, tp\n",
    "tn, fp, fn, tp = confusion_matrix(y_test, predictions_tvec).ravel()\n",
    "\n",
    "# Print the respective results\n",
    "print(\"True Negatives: %s\" % tn)\n",
    "print(\"False Positives: %s\" % fp)\n",
    "print(\"False Negatives: %s\" % fn)\n",
    "print(\"True Positives: %s\" % tp)"
   ]
  },
  {
   "cell_type": "code",
   "execution_count": 24,
   "metadata": {},
   "outputs": [
    {
     "name": "stdout",
     "output_type": "stream",
     "text": [
      "Specificity: 0.6655490360435876\n",
      "Recall: 0.7574468085106383\n",
      "Precision: 0.6904577191621412\n",
      "F1 Score: 0.7224025974025974\n"
     ]
    }
   ],
   "source": [
    "# Calculate the specificity, recall, precision and f1-scores for model_tvec\n",
    "specificity = tn / (tn + fp)\n",
    "recall = recall_score(y_test, predictions_tvec)\n",
    "precision = precision_score(y_test, predictions_tvec)\n",
    "harmonic_mean = f1_score(y_test, predictions_tvec)\n",
    "\n",
    "# Print the scores out\n",
    "print(\"Specificity: %s\" % specificity)\n",
    "print(\"Recall: %s\" % recall)\n",
    "print(\"Precision: %s\" % precision)\n",
    "print(\"F1 Score: %s\" % harmonic_mean)"
   ]
  },
  {
   "cell_type": "code",
   "execution_count": 25,
   "metadata": {},
   "outputs": [
    {
     "name": "stdout",
     "output_type": "stream",
     "text": [
      "              precision    recall  f1-score   support\n",
      "\n",
      "           0       0.74      0.67      0.70      1193\n",
      "           1       0.69      0.76      0.72      1175\n",
      "\n",
      "    accuracy                           0.71      2368\n",
      "   macro avg       0.71      0.71      0.71      2368\n",
      "weighted avg       0.71      0.71      0.71      2368\n",
      "\n"
     ]
    }
   ],
   "source": [
    "# Classification report for Naive Bayes (TD-IDF Vectorizer)\n",
    "print(classification_report(y_test, predictions_tvec))"
   ]
  },
  {
   "cell_type": "markdown",
   "metadata": {},
   "source": [
    "##### <b>3. Random Forest with Count Vectorizer</b>"
   ]
  },
  {
   "cell_type": "code",
   "execution_count": 26,
   "metadata": {},
   "outputs": [],
   "source": [
    "# Instantiate the random forest model\n",
    "rf = RandomForestClassifier()"
   ]
  },
  {
   "cell_type": "code",
   "execution_count": 27,
   "metadata": {},
   "outputs": [
    {
     "data": {
      "text/html": [
       "<style>#sk-container-id-1 {color: black;}#sk-container-id-1 pre{padding: 0;}#sk-container-id-1 div.sk-toggleable {background-color: white;}#sk-container-id-1 label.sk-toggleable__label {cursor: pointer;display: block;width: 100%;margin-bottom: 0;padding: 0.3em;box-sizing: border-box;text-align: center;}#sk-container-id-1 label.sk-toggleable__label-arrow:before {content: \"▸\";float: left;margin-right: 0.25em;color: #696969;}#sk-container-id-1 label.sk-toggleable__label-arrow:hover:before {color: black;}#sk-container-id-1 div.sk-estimator:hover label.sk-toggleable__label-arrow:before {color: black;}#sk-container-id-1 div.sk-toggleable__content {max-height: 0;max-width: 0;overflow: hidden;text-align: left;background-color: #f0f8ff;}#sk-container-id-1 div.sk-toggleable__content pre {margin: 0.2em;color: black;border-radius: 0.25em;background-color: #f0f8ff;}#sk-container-id-1 input.sk-toggleable__control:checked~div.sk-toggleable__content {max-height: 200px;max-width: 100%;overflow: auto;}#sk-container-id-1 input.sk-toggleable__control:checked~label.sk-toggleable__label-arrow:before {content: \"▾\";}#sk-container-id-1 div.sk-estimator input.sk-toggleable__control:checked~label.sk-toggleable__label {background-color: #d4ebff;}#sk-container-id-1 div.sk-label input.sk-toggleable__control:checked~label.sk-toggleable__label {background-color: #d4ebff;}#sk-container-id-1 input.sk-hidden--visually {border: 0;clip: rect(1px 1px 1px 1px);clip: rect(1px, 1px, 1px, 1px);height: 1px;margin: -1px;overflow: hidden;padding: 0;position: absolute;width: 1px;}#sk-container-id-1 div.sk-estimator {font-family: monospace;background-color: #f0f8ff;border: 1px dotted black;border-radius: 0.25em;box-sizing: border-box;margin-bottom: 0.5em;}#sk-container-id-1 div.sk-estimator:hover {background-color: #d4ebff;}#sk-container-id-1 div.sk-parallel-item::after {content: \"\";width: 100%;border-bottom: 1px solid gray;flex-grow: 1;}#sk-container-id-1 div.sk-label:hover label.sk-toggleable__label {background-color: #d4ebff;}#sk-container-id-1 div.sk-serial::before {content: \"\";position: absolute;border-left: 1px solid gray;box-sizing: border-box;top: 0;bottom: 0;left: 50%;z-index: 0;}#sk-container-id-1 div.sk-serial {display: flex;flex-direction: column;align-items: center;background-color: white;padding-right: 0.2em;padding-left: 0.2em;position: relative;}#sk-container-id-1 div.sk-item {position: relative;z-index: 1;}#sk-container-id-1 div.sk-parallel {display: flex;align-items: stretch;justify-content: center;background-color: white;position: relative;}#sk-container-id-1 div.sk-item::before, #sk-container-id-1 div.sk-parallel-item::before {content: \"\";position: absolute;border-left: 1px solid gray;box-sizing: border-box;top: 0;bottom: 0;left: 50%;z-index: -1;}#sk-container-id-1 div.sk-parallel-item {display: flex;flex-direction: column;z-index: 1;position: relative;background-color: white;}#sk-container-id-1 div.sk-parallel-item:first-child::after {align-self: flex-end;width: 50%;}#sk-container-id-1 div.sk-parallel-item:last-child::after {align-self: flex-start;width: 50%;}#sk-container-id-1 div.sk-parallel-item:only-child::after {width: 0;}#sk-container-id-1 div.sk-dashed-wrapped {border: 1px dashed gray;margin: 0 0.4em 0.5em 0.4em;box-sizing: border-box;padding-bottom: 0.4em;background-color: white;}#sk-container-id-1 div.sk-label label {font-family: monospace;font-weight: bold;display: inline-block;line-height: 1.2em;}#sk-container-id-1 div.sk-label-container {text-align: center;}#sk-container-id-1 div.sk-container {/* jupyter's `normalize.less` sets `[hidden] { display: none; }` but bootstrap.min.css set `[hidden] { display: none !important; }` so we also need the `!important` here to be able to override the default hidden behavior on the sphinx rendered scikit-learn.org. See: https://github.com/scikit-learn/scikit-learn/issues/21755 */display: inline-block !important;position: relative;}#sk-container-id-1 div.sk-text-repr-fallback {display: none;}</style><div id=\"sk-container-id-1\" class=\"sk-top-container\"><div class=\"sk-text-repr-fallback\"><pre>GridSearchCV(cv=5, estimator=RandomForestClassifier(),\n",
       "             param_grid={&#x27;max_depth&#x27;: [2, 3, 5, 7],\n",
       "                         &#x27;min_samples_leaf&#x27;: [3, 4, 5, 7],\n",
       "                         &#x27;min_samples_split&#x27;: [10, 15, 20],\n",
       "                         &#x27;n_estimators&#x27;: [100, 150, 200]})</pre><b>In a Jupyter environment, please rerun this cell to show the HTML representation or trust the notebook. <br />On GitHub, the HTML representation is unable to render, please try loading this page with nbviewer.org.</b></div><div class=\"sk-container\" hidden><div class=\"sk-item sk-dashed-wrapped\"><div class=\"sk-label-container\"><div class=\"sk-label sk-toggleable\"><input class=\"sk-toggleable__control sk-hidden--visually\" id=\"sk-estimator-id-1\" type=\"checkbox\" ><label for=\"sk-estimator-id-1\" class=\"sk-toggleable__label sk-toggleable__label-arrow\">GridSearchCV</label><div class=\"sk-toggleable__content\"><pre>GridSearchCV(cv=5, estimator=RandomForestClassifier(),\n",
       "             param_grid={&#x27;max_depth&#x27;: [2, 3, 5, 7],\n",
       "                         &#x27;min_samples_leaf&#x27;: [3, 4, 5, 7],\n",
       "                         &#x27;min_samples_split&#x27;: [10, 15, 20],\n",
       "                         &#x27;n_estimators&#x27;: [100, 150, 200]})</pre></div></div></div><div class=\"sk-parallel\"><div class=\"sk-parallel-item\"><div class=\"sk-item\"><div class=\"sk-label-container\"><div class=\"sk-label sk-toggleable\"><input class=\"sk-toggleable__control sk-hidden--visually\" id=\"sk-estimator-id-2\" type=\"checkbox\" ><label for=\"sk-estimator-id-2\" class=\"sk-toggleable__label sk-toggleable__label-arrow\">estimator: RandomForestClassifier</label><div class=\"sk-toggleable__content\"><pre>RandomForestClassifier()</pre></div></div></div><div class=\"sk-serial\"><div class=\"sk-item\"><div class=\"sk-estimator sk-toggleable\"><input class=\"sk-toggleable__control sk-hidden--visually\" id=\"sk-estimator-id-3\" type=\"checkbox\" ><label for=\"sk-estimator-id-3\" class=\"sk-toggleable__label sk-toggleable__label-arrow\">RandomForestClassifier</label><div class=\"sk-toggleable__content\"><pre>RandomForestClassifier()</pre></div></div></div></div></div></div></div></div></div></div>"
      ],
      "text/plain": [
       "GridSearchCV(cv=5, estimator=RandomForestClassifier(),\n",
       "             param_grid={'max_depth': [2, 3, 5, 7],\n",
       "                         'min_samples_leaf': [3, 4, 5, 7],\n",
       "                         'min_samples_split': [10, 15, 20],\n",
       "                         'n_estimators': [100, 150, 200]})"
      ]
     },
     "execution_count": 27,
     "metadata": {},
     "output_type": "execute_result"
    }
   ],
   "source": [
    "# Use GridSearch to provide us with optimal parameters for random forest with Count Vectorizer\n",
    "\n",
    "# Define the parameters that we want to test\n",
    "rf_params = {\n",
    "    \"n_estimators\": [100, 150, 200],\n",
    "    \"max_depth\": [2, 3, 5, 7],\n",
    "    \"min_samples_split\": [10, 15, 20],\n",
    "    \"min_samples_leaf\": [3, 4, 5, 7]\n",
    "    }\n",
    "\n",
    "# Use GridSearch to give us the best parameters \n",
    "rf_gs = GridSearchCV(rf, param_grid = rf_params, cv = 5)\n",
    "\n",
    "# Fit GridSearch model onto X_train_cvec\n",
    "rf_gs.fit(X_train_cvec, y_train)"
   ]
  },
  {
   "cell_type": "code",
   "execution_count": 28,
   "metadata": {},
   "outputs": [
    {
     "name": "stdout",
     "output_type": "stream",
     "text": [
      "Best Score for cvec: 0.8445514466106985\n",
      "Best Parameters for cvec: {'max_depth': 7, 'min_samples_leaf': 3, 'min_samples_split': 20, 'n_estimators': 100}\n"
     ]
    }
   ],
   "source": [
    "# Get the best parameters and best score\n",
    "best_score_cvec = rf_gs.best_score_\n",
    "best_parameters_cvec = rf_gs.best_params_\n",
    "\n",
    "print(\"Best Score for cvec: %s\" % best_score_cvec)\n",
    "print(\"Best Parameters for cvec: %s\" % best_parameters_cvec)"
   ]
  },
  {
   "cell_type": "code",
   "execution_count": 29,
   "metadata": {},
   "outputs": [
    {
     "data": {
      "text/plain": [
       "0.8483525767389468"
      ]
     },
     "execution_count": 29,
     "metadata": {},
     "output_type": "execute_result"
    }
   ],
   "source": [
    "# r2 score (accuracy score) on train corpus\n",
    "rf_gs.score(X_train_cvec, y_train)"
   ]
  },
  {
   "cell_type": "code",
   "execution_count": 30,
   "metadata": {},
   "outputs": [
    {
     "data": {
      "text/plain": [
       "0.8454391891891891"
      ]
     },
     "execution_count": 30,
     "metadata": {},
     "output_type": "execute_result"
    }
   ],
   "source": [
    "# r2 score (accuracy score) on test corpus\n",
    "rf_gs.score(X_test_cvec, y_test)"
   ]
  },
  {
   "cell_type": "code",
   "execution_count": 31,
   "metadata": {},
   "outputs": [],
   "source": [
    "# Get predictions\n",
    "gs_predictions_cvec = rf_gs.predict(X_test_cvec)"
   ]
  },
  {
   "cell_type": "code",
   "execution_count": 32,
   "metadata": {},
   "outputs": [
    {
     "name": "stdout",
     "output_type": "stream",
     "text": [
      "True Negatives: 1169\n",
      "False Positives: 24\n",
      "False Negatives: 342\n",
      "True Positives: 833\n"
     ]
    }
   ],
   "source": [
    "# Generate the confusion matrix for random forest with cvec\n",
    "confusion_matrix(y_test, gs_predictions_cvec)\n",
    "\n",
    "# Fix the order of tn, fp, fn, tp\n",
    "tn, fp, fn, tp = confusion_matrix(y_test, gs_predictions_cvec).ravel()\n",
    "\n",
    "# Print the respective results\n",
    "print(\"True Negatives: %s\" % tn)\n",
    "print(\"False Positives: %s\" % fp)\n",
    "print(\"False Negatives: %s\" % fn)\n",
    "print(\"True Positives: %s\" % tp)"
   ]
  },
  {
   "cell_type": "code",
   "execution_count": 33,
   "metadata": {},
   "outputs": [
    {
     "name": "stdout",
     "output_type": "stream",
     "text": [
      "Specificity: 0.9798826487845766\n",
      "Recall: 0.708936170212766\n",
      "Precision: 0.9719953325554259\n",
      "F1 Score: 0.8198818897637796\n"
     ]
    }
   ],
   "source": [
    "# Calculate the specificity, recall, precision and f1-scores for random forest with cvec\n",
    "specificity = tn / (tn + fp)\n",
    "recall = recall_score(y_test, gs_predictions_cvec)\n",
    "precision = precision_score(y_test, gs_predictions_cvec)\n",
    "harmonic_mean = f1_score(y_test, gs_predictions_cvec)\n",
    "\n",
    "# Print the scores out\n",
    "print(\"Specificity: %s\" % specificity)\n",
    "print(\"Recall: %s\" % recall)\n",
    "print(\"Precision: %s\" % precision)\n",
    "print(\"F1 Score: %s\" % harmonic_mean)"
   ]
  },
  {
   "cell_type": "code",
   "execution_count": 34,
   "metadata": {},
   "outputs": [
    {
     "name": "stdout",
     "output_type": "stream",
     "text": [
      "              precision    recall  f1-score   support\n",
      "\n",
      "           0       0.77      0.98      0.86      1193\n",
      "           1       0.97      0.71      0.82      1175\n",
      "\n",
      "    accuracy                           0.85      2368\n",
      "   macro avg       0.87      0.84      0.84      2368\n",
      "weighted avg       0.87      0.85      0.84      2368\n",
      "\n"
     ]
    }
   ],
   "source": [
    "# Classification report for random forest (Count Vectorizer)\n",
    "print(classification_report(y_test, gs_predictions_cvec))"
   ]
  },
  {
   "cell_type": "markdown",
   "metadata": {},
   "source": [
    "##### <b>4. Random Forest with TD-IDF Vectorizer</b>"
   ]
  },
  {
   "cell_type": "code",
   "execution_count": 35,
   "metadata": {},
   "outputs": [
    {
     "data": {
      "text/html": [
       "<style>#sk-container-id-2 {color: black;}#sk-container-id-2 pre{padding: 0;}#sk-container-id-2 div.sk-toggleable {background-color: white;}#sk-container-id-2 label.sk-toggleable__label {cursor: pointer;display: block;width: 100%;margin-bottom: 0;padding: 0.3em;box-sizing: border-box;text-align: center;}#sk-container-id-2 label.sk-toggleable__label-arrow:before {content: \"▸\";float: left;margin-right: 0.25em;color: #696969;}#sk-container-id-2 label.sk-toggleable__label-arrow:hover:before {color: black;}#sk-container-id-2 div.sk-estimator:hover label.sk-toggleable__label-arrow:before {color: black;}#sk-container-id-2 div.sk-toggleable__content {max-height: 0;max-width: 0;overflow: hidden;text-align: left;background-color: #f0f8ff;}#sk-container-id-2 div.sk-toggleable__content pre {margin: 0.2em;color: black;border-radius: 0.25em;background-color: #f0f8ff;}#sk-container-id-2 input.sk-toggleable__control:checked~div.sk-toggleable__content {max-height: 200px;max-width: 100%;overflow: auto;}#sk-container-id-2 input.sk-toggleable__control:checked~label.sk-toggleable__label-arrow:before {content: \"▾\";}#sk-container-id-2 div.sk-estimator input.sk-toggleable__control:checked~label.sk-toggleable__label {background-color: #d4ebff;}#sk-container-id-2 div.sk-label input.sk-toggleable__control:checked~label.sk-toggleable__label {background-color: #d4ebff;}#sk-container-id-2 input.sk-hidden--visually {border: 0;clip: rect(1px 1px 1px 1px);clip: rect(1px, 1px, 1px, 1px);height: 1px;margin: -1px;overflow: hidden;padding: 0;position: absolute;width: 1px;}#sk-container-id-2 div.sk-estimator {font-family: monospace;background-color: #f0f8ff;border: 1px dotted black;border-radius: 0.25em;box-sizing: border-box;margin-bottom: 0.5em;}#sk-container-id-2 div.sk-estimator:hover {background-color: #d4ebff;}#sk-container-id-2 div.sk-parallel-item::after {content: \"\";width: 100%;border-bottom: 1px solid gray;flex-grow: 1;}#sk-container-id-2 div.sk-label:hover label.sk-toggleable__label {background-color: #d4ebff;}#sk-container-id-2 div.sk-serial::before {content: \"\";position: absolute;border-left: 1px solid gray;box-sizing: border-box;top: 0;bottom: 0;left: 50%;z-index: 0;}#sk-container-id-2 div.sk-serial {display: flex;flex-direction: column;align-items: center;background-color: white;padding-right: 0.2em;padding-left: 0.2em;position: relative;}#sk-container-id-2 div.sk-item {position: relative;z-index: 1;}#sk-container-id-2 div.sk-parallel {display: flex;align-items: stretch;justify-content: center;background-color: white;position: relative;}#sk-container-id-2 div.sk-item::before, #sk-container-id-2 div.sk-parallel-item::before {content: \"\";position: absolute;border-left: 1px solid gray;box-sizing: border-box;top: 0;bottom: 0;left: 50%;z-index: -1;}#sk-container-id-2 div.sk-parallel-item {display: flex;flex-direction: column;z-index: 1;position: relative;background-color: white;}#sk-container-id-2 div.sk-parallel-item:first-child::after {align-self: flex-end;width: 50%;}#sk-container-id-2 div.sk-parallel-item:last-child::after {align-self: flex-start;width: 50%;}#sk-container-id-2 div.sk-parallel-item:only-child::after {width: 0;}#sk-container-id-2 div.sk-dashed-wrapped {border: 1px dashed gray;margin: 0 0.4em 0.5em 0.4em;box-sizing: border-box;padding-bottom: 0.4em;background-color: white;}#sk-container-id-2 div.sk-label label {font-family: monospace;font-weight: bold;display: inline-block;line-height: 1.2em;}#sk-container-id-2 div.sk-label-container {text-align: center;}#sk-container-id-2 div.sk-container {/* jupyter's `normalize.less` sets `[hidden] { display: none; }` but bootstrap.min.css set `[hidden] { display: none !important; }` so we also need the `!important` here to be able to override the default hidden behavior on the sphinx rendered scikit-learn.org. See: https://github.com/scikit-learn/scikit-learn/issues/21755 */display: inline-block !important;position: relative;}#sk-container-id-2 div.sk-text-repr-fallback {display: none;}</style><div id=\"sk-container-id-2\" class=\"sk-top-container\"><div class=\"sk-text-repr-fallback\"><pre>GridSearchCV(cv=5, estimator=RandomForestClassifier(),\n",
       "             param_grid={&#x27;max_depth&#x27;: [2, 3, 5, 7],\n",
       "                         &#x27;min_samples_leaf&#x27;: [3, 4, 5, 7],\n",
       "                         &#x27;min_samples_split&#x27;: [10, 15, 20],\n",
       "                         &#x27;n_estimators&#x27;: [100, 150, 200]})</pre><b>In a Jupyter environment, please rerun this cell to show the HTML representation or trust the notebook. <br />On GitHub, the HTML representation is unable to render, please try loading this page with nbviewer.org.</b></div><div class=\"sk-container\" hidden><div class=\"sk-item sk-dashed-wrapped\"><div class=\"sk-label-container\"><div class=\"sk-label sk-toggleable\"><input class=\"sk-toggleable__control sk-hidden--visually\" id=\"sk-estimator-id-4\" type=\"checkbox\" ><label for=\"sk-estimator-id-4\" class=\"sk-toggleable__label sk-toggleable__label-arrow\">GridSearchCV</label><div class=\"sk-toggleable__content\"><pre>GridSearchCV(cv=5, estimator=RandomForestClassifier(),\n",
       "             param_grid={&#x27;max_depth&#x27;: [2, 3, 5, 7],\n",
       "                         &#x27;min_samples_leaf&#x27;: [3, 4, 5, 7],\n",
       "                         &#x27;min_samples_split&#x27;: [10, 15, 20],\n",
       "                         &#x27;n_estimators&#x27;: [100, 150, 200]})</pre></div></div></div><div class=\"sk-parallel\"><div class=\"sk-parallel-item\"><div class=\"sk-item\"><div class=\"sk-label-container\"><div class=\"sk-label sk-toggleable\"><input class=\"sk-toggleable__control sk-hidden--visually\" id=\"sk-estimator-id-5\" type=\"checkbox\" ><label for=\"sk-estimator-id-5\" class=\"sk-toggleable__label sk-toggleable__label-arrow\">estimator: RandomForestClassifier</label><div class=\"sk-toggleable__content\"><pre>RandomForestClassifier()</pre></div></div></div><div class=\"sk-serial\"><div class=\"sk-item\"><div class=\"sk-estimator sk-toggleable\"><input class=\"sk-toggleable__control sk-hidden--visually\" id=\"sk-estimator-id-6\" type=\"checkbox\" ><label for=\"sk-estimator-id-6\" class=\"sk-toggleable__label sk-toggleable__label-arrow\">RandomForestClassifier</label><div class=\"sk-toggleable__content\"><pre>RandomForestClassifier()</pre></div></div></div></div></div></div></div></div></div></div>"
      ],
      "text/plain": [
       "GridSearchCV(cv=5, estimator=RandomForestClassifier(),\n",
       "             param_grid={'max_depth': [2, 3, 5, 7],\n",
       "                         'min_samples_leaf': [3, 4, 5, 7],\n",
       "                         'min_samples_split': [10, 15, 20],\n",
       "                         'n_estimators': [100, 150, 200]})"
      ]
     },
     "execution_count": 35,
     "metadata": {},
     "output_type": "execute_result"
    }
   ],
   "source": [
    "# Use GridSearch to provide us with optimal parameters for random forest with TD-IDF Vectorizer\n",
    "\n",
    "# Define the parameters that we want to test\n",
    "rf_params = {\n",
    "    \"n_estimators\": [100, 150, 200],\n",
    "    \"max_depth\": [2, 3, 5, 7],\n",
    "    \"min_samples_split\": [10, 15, 20],\n",
    "    \"min_samples_leaf\": [3, 4, 5, 7]\n",
    "    }\n",
    "\n",
    "# Use GridSearch to give us the best parameters \n",
    "rf_gs_tvec = GridSearchCV(rf, param_grid = rf_params, cv = 5)\n",
    "\n",
    "# Fit GridSearch model onto X_train_tvec\n",
    "rf_gs_tvec.fit(X_train_tvec, y_train)"
   ]
  },
  {
   "cell_type": "code",
   "execution_count": 36,
   "metadata": {},
   "outputs": [
    {
     "name": "stdout",
     "output_type": "stream",
     "text": [
      "Best Score for tvec: 0.8468043730362471\n",
      "Best Parameters for tvec: {'max_depth': 7, 'min_samples_leaf': 3, 'min_samples_split': 15, 'n_estimators': 150}\n"
     ]
    }
   ],
   "source": [
    "# Get the best parameters and best score\n",
    "best_score_tvec = rf_gs_tvec.best_score_\n",
    "best_parameters_tvec = rf_gs_tvec.best_params_\n",
    "\n",
    "print(\"Best Score for tvec: %s\" % best_score_tvec)\n",
    "print(\"Best Parameters for tvec: %s\" % best_parameters_tvec)"
   ]
  },
  {
   "cell_type": "code",
   "execution_count": 37,
   "metadata": {},
   "outputs": [
    {
     "data": {
      "text/plain": [
       "0.8424387496479865"
      ]
     },
     "execution_count": 37,
     "metadata": {},
     "output_type": "execute_result"
    }
   ],
   "source": [
    "# r2 score (accuracy score) on train corpus\n",
    "rf_gs_tvec.score(X_train_tvec, y_train)"
   ]
  },
  {
   "cell_type": "code",
   "execution_count": 38,
   "metadata": {},
   "outputs": [
    {
     "data": {
      "text/plain": [
       "0.6972128378378378"
      ]
     },
     "execution_count": 38,
     "metadata": {},
     "output_type": "execute_result"
    }
   ],
   "source": [
    "# r2 score (accuracy score) on test corpus\n",
    "rf_gs_tvec.score(X_test_tvec, y_test)"
   ]
  },
  {
   "cell_type": "code",
   "execution_count": 39,
   "metadata": {},
   "outputs": [],
   "source": [
    "# Get predictions\n",
    "gs_predictions_tvec = rf_gs_tvec.predict(X_test_tvec)"
   ]
  },
  {
   "cell_type": "code",
   "execution_count": 40,
   "metadata": {},
   "outputs": [
    {
     "name": "stdout",
     "output_type": "stream",
     "text": [
      "True Negatives: 958\n",
      "False Positives: 235\n",
      "False Negatives: 482\n",
      "True Positives: 693\n"
     ]
    }
   ],
   "source": [
    "# Generate the confusion matrix for random forest with tvec\n",
    "confusion_matrix(y_test, gs_predictions_tvec)\n",
    "\n",
    "# Fix the order of tn, fp, fn, tp\n",
    "tn, fp, fn, tp = confusion_matrix(y_test, gs_predictions_tvec).ravel()\n",
    "\n",
    "# Print the respective results\n",
    "print(\"True Negatives: %s\" % tn)\n",
    "print(\"False Positives: %s\" % fp)\n",
    "print(\"False Negatives: %s\" % fn)\n",
    "print(\"True Positives: %s\" % tp)"
   ]
  },
  {
   "cell_type": "code",
   "execution_count": 41,
   "metadata": {},
   "outputs": [
    {
     "name": "stdout",
     "output_type": "stream",
     "text": [
      "Specificity: 0.8030176026823135\n",
      "Recall: 0.5897872340425532\n",
      "Precision: 0.7467672413793104\n",
      "F1 Score: 0.659058487874465\n"
     ]
    }
   ],
   "source": [
    "# Calculate the specificity, recall, precision and f1-scores for random forest with tvec\n",
    "specificity = tn / (tn + fp)\n",
    "recall = recall_score(y_test, gs_predictions_tvec)\n",
    "precision = precision_score(y_test, gs_predictions_tvec)\n",
    "harmonic_mean = f1_score(y_test, gs_predictions_tvec)\n",
    "\n",
    "# Print the scores out\n",
    "print(\"Specificity: %s\" % specificity)\n",
    "print(\"Recall: %s\" % recall)\n",
    "print(\"Precision: %s\" % precision)\n",
    "print(\"F1 Score: %s\" % harmonic_mean)"
   ]
  },
  {
   "cell_type": "code",
   "execution_count": 42,
   "metadata": {},
   "outputs": [
    {
     "name": "stdout",
     "output_type": "stream",
     "text": [
      "              precision    recall  f1-score   support\n",
      "\n",
      "           0       0.67      0.80      0.73      1193\n",
      "           1       0.75      0.59      0.66      1175\n",
      "\n",
      "    accuracy                           0.70      2368\n",
      "   macro avg       0.71      0.70      0.69      2368\n",
      "weighted avg       0.71      0.70      0.69      2368\n",
      "\n"
     ]
    }
   ],
   "source": [
    "# Classification report for random forest (TD-IDF Vectorizer)\n",
    "print(classification_report(y_test, gs_predictions_tvec))"
   ]
  },
  {
   "cell_type": "markdown",
   "metadata": {},
   "source": [
    "##### <b>5. Gradient Boosting with Count Vectorizer</b>"
   ]
  },
  {
   "cell_type": "code",
   "execution_count": 43,
   "metadata": {},
   "outputs": [],
   "source": [
    "# Instantiate the gradient boosting classifier\n",
    "gboost = GradientBoostingClassifier()"
   ]
  },
  {
   "cell_type": "code",
   "execution_count": 44,
   "metadata": {},
   "outputs": [
    {
     "data": {
      "text/html": [
       "<style>#sk-container-id-3 {color: black;}#sk-container-id-3 pre{padding: 0;}#sk-container-id-3 div.sk-toggleable {background-color: white;}#sk-container-id-3 label.sk-toggleable__label {cursor: pointer;display: block;width: 100%;margin-bottom: 0;padding: 0.3em;box-sizing: border-box;text-align: center;}#sk-container-id-3 label.sk-toggleable__label-arrow:before {content: \"▸\";float: left;margin-right: 0.25em;color: #696969;}#sk-container-id-3 label.sk-toggleable__label-arrow:hover:before {color: black;}#sk-container-id-3 div.sk-estimator:hover label.sk-toggleable__label-arrow:before {color: black;}#sk-container-id-3 div.sk-toggleable__content {max-height: 0;max-width: 0;overflow: hidden;text-align: left;background-color: #f0f8ff;}#sk-container-id-3 div.sk-toggleable__content pre {margin: 0.2em;color: black;border-radius: 0.25em;background-color: #f0f8ff;}#sk-container-id-3 input.sk-toggleable__control:checked~div.sk-toggleable__content {max-height: 200px;max-width: 100%;overflow: auto;}#sk-container-id-3 input.sk-toggleable__control:checked~label.sk-toggleable__label-arrow:before {content: \"▾\";}#sk-container-id-3 div.sk-estimator input.sk-toggleable__control:checked~label.sk-toggleable__label {background-color: #d4ebff;}#sk-container-id-3 div.sk-label input.sk-toggleable__control:checked~label.sk-toggleable__label {background-color: #d4ebff;}#sk-container-id-3 input.sk-hidden--visually {border: 0;clip: rect(1px 1px 1px 1px);clip: rect(1px, 1px, 1px, 1px);height: 1px;margin: -1px;overflow: hidden;padding: 0;position: absolute;width: 1px;}#sk-container-id-3 div.sk-estimator {font-family: monospace;background-color: #f0f8ff;border: 1px dotted black;border-radius: 0.25em;box-sizing: border-box;margin-bottom: 0.5em;}#sk-container-id-3 div.sk-estimator:hover {background-color: #d4ebff;}#sk-container-id-3 div.sk-parallel-item::after {content: \"\";width: 100%;border-bottom: 1px solid gray;flex-grow: 1;}#sk-container-id-3 div.sk-label:hover label.sk-toggleable__label {background-color: #d4ebff;}#sk-container-id-3 div.sk-serial::before {content: \"\";position: absolute;border-left: 1px solid gray;box-sizing: border-box;top: 0;bottom: 0;left: 50%;z-index: 0;}#sk-container-id-3 div.sk-serial {display: flex;flex-direction: column;align-items: center;background-color: white;padding-right: 0.2em;padding-left: 0.2em;position: relative;}#sk-container-id-3 div.sk-item {position: relative;z-index: 1;}#sk-container-id-3 div.sk-parallel {display: flex;align-items: stretch;justify-content: center;background-color: white;position: relative;}#sk-container-id-3 div.sk-item::before, #sk-container-id-3 div.sk-parallel-item::before {content: \"\";position: absolute;border-left: 1px solid gray;box-sizing: border-box;top: 0;bottom: 0;left: 50%;z-index: -1;}#sk-container-id-3 div.sk-parallel-item {display: flex;flex-direction: column;z-index: 1;position: relative;background-color: white;}#sk-container-id-3 div.sk-parallel-item:first-child::after {align-self: flex-end;width: 50%;}#sk-container-id-3 div.sk-parallel-item:last-child::after {align-self: flex-start;width: 50%;}#sk-container-id-3 div.sk-parallel-item:only-child::after {width: 0;}#sk-container-id-3 div.sk-dashed-wrapped {border: 1px dashed gray;margin: 0 0.4em 0.5em 0.4em;box-sizing: border-box;padding-bottom: 0.4em;background-color: white;}#sk-container-id-3 div.sk-label label {font-family: monospace;font-weight: bold;display: inline-block;line-height: 1.2em;}#sk-container-id-3 div.sk-label-container {text-align: center;}#sk-container-id-3 div.sk-container {/* jupyter's `normalize.less` sets `[hidden] { display: none; }` but bootstrap.min.css set `[hidden] { display: none !important; }` so we also need the `!important` here to be able to override the default hidden behavior on the sphinx rendered scikit-learn.org. See: https://github.com/scikit-learn/scikit-learn/issues/21755 */display: inline-block !important;position: relative;}#sk-container-id-3 div.sk-text-repr-fallback {display: none;}</style><div id=\"sk-container-id-3\" class=\"sk-top-container\"><div class=\"sk-text-repr-fallback\"><pre>GridSearchCV(cv=5, estimator=GradientBoostingClassifier(),\n",
       "             param_grid={&#x27;max_depth&#x27;: [2, 3, 5, 7],\n",
       "                         &#x27;min_samples_leaf&#x27;: [3, 4, 5, 7],\n",
       "                         &#x27;min_samples_split&#x27;: [10, 15, 20],\n",
       "                         &#x27;n_estimators&#x27;: [100, 150, 200]})</pre><b>In a Jupyter environment, please rerun this cell to show the HTML representation or trust the notebook. <br />On GitHub, the HTML representation is unable to render, please try loading this page with nbviewer.org.</b></div><div class=\"sk-container\" hidden><div class=\"sk-item sk-dashed-wrapped\"><div class=\"sk-label-container\"><div class=\"sk-label sk-toggleable\"><input class=\"sk-toggleable__control sk-hidden--visually\" id=\"sk-estimator-id-7\" type=\"checkbox\" ><label for=\"sk-estimator-id-7\" class=\"sk-toggleable__label sk-toggleable__label-arrow\">GridSearchCV</label><div class=\"sk-toggleable__content\"><pre>GridSearchCV(cv=5, estimator=GradientBoostingClassifier(),\n",
       "             param_grid={&#x27;max_depth&#x27;: [2, 3, 5, 7],\n",
       "                         &#x27;min_samples_leaf&#x27;: [3, 4, 5, 7],\n",
       "                         &#x27;min_samples_split&#x27;: [10, 15, 20],\n",
       "                         &#x27;n_estimators&#x27;: [100, 150, 200]})</pre></div></div></div><div class=\"sk-parallel\"><div class=\"sk-parallel-item\"><div class=\"sk-item\"><div class=\"sk-label-container\"><div class=\"sk-label sk-toggleable\"><input class=\"sk-toggleable__control sk-hidden--visually\" id=\"sk-estimator-id-8\" type=\"checkbox\" ><label for=\"sk-estimator-id-8\" class=\"sk-toggleable__label sk-toggleable__label-arrow\">estimator: GradientBoostingClassifier</label><div class=\"sk-toggleable__content\"><pre>GradientBoostingClassifier()</pre></div></div></div><div class=\"sk-serial\"><div class=\"sk-item\"><div class=\"sk-estimator sk-toggleable\"><input class=\"sk-toggleable__control sk-hidden--visually\" id=\"sk-estimator-id-9\" type=\"checkbox\" ><label for=\"sk-estimator-id-9\" class=\"sk-toggleable__label sk-toggleable__label-arrow\">GradientBoostingClassifier</label><div class=\"sk-toggleable__content\"><pre>GradientBoostingClassifier()</pre></div></div></div></div></div></div></div></div></div></div>"
      ],
      "text/plain": [
       "GridSearchCV(cv=5, estimator=GradientBoostingClassifier(),\n",
       "             param_grid={'max_depth': [2, 3, 5, 7],\n",
       "                         'min_samples_leaf': [3, 4, 5, 7],\n",
       "                         'min_samples_split': [10, 15, 20],\n",
       "                         'n_estimators': [100, 150, 200]})"
      ]
     },
     "execution_count": 44,
     "metadata": {},
     "output_type": "execute_result"
    }
   ],
   "source": [
    "# Use GridSearch to provide us with optimal parameters for gradient boosting\n",
    "# Intentionally keeping the hyperparameters same as random forest so that we can see if gboost makes it better or not\n",
    "\n",
    "# Define the parameters that we want to test\n",
    "gboost_params = {\"n_estimators\": [100, 150, 200],\n",
    "                 \"max_depth\": [2, 3, 5, 7],\n",
    "                 \"min_samples_split\": [10, 15, 20],\n",
    "                 \"min_samples_leaf\": [3, 4, 5, 7]\n",
    "                 }\n",
    "\n",
    "# Use GridSearch to give us the best parameters \n",
    "gboost_gs = GridSearchCV(gboost, param_grid = gboost_params, cv = 5)\n",
    "\n",
    "# Fit GridSearch onto X_train_cvec\n",
    "gboost_gs.fit(X_train_cvec, y_train)"
   ]
  },
  {
   "cell_type": "code",
   "execution_count": 45,
   "metadata": {},
   "outputs": [
    {
     "name": "stdout",
     "output_type": "stream",
     "text": [
      "Best Score for gradient boost: 0.8608830321832472\n",
      "Best Parameters for gradient boost: {'max_depth': 7, 'min_samples_leaf': 5, 'min_samples_split': 20, 'n_estimators': 200}\n"
     ]
    }
   ],
   "source": [
    "# Get the best parameters and best score\n",
    "best_score_gboost = gboost_gs.best_score_\n",
    "best_parameters_gboost = gboost_gs.best_params_\n",
    "\n",
    "print(\"Best Score for gradient boost: %s\" % best_score_gboost)\n",
    "print(\"Best Parameters for gradient boost: %s\" % best_parameters_gboost)"
   ]
  },
  {
   "cell_type": "code",
   "execution_count": 46,
   "metadata": {},
   "outputs": [
    {
     "data": {
      "text/plain": [
       "0.9157983666572796"
      ]
     },
     "execution_count": 46,
     "metadata": {},
     "output_type": "execute_result"
    }
   ],
   "source": [
    "# r2 score (accuracy score) on train corpus\n",
    "gboost_gs.score(X_train_cvec, y_train)"
   ]
  },
  {
   "cell_type": "code",
   "execution_count": 47,
   "metadata": {},
   "outputs": [
    {
     "data": {
      "text/plain": [
       "0.8534628378378378"
      ]
     },
     "execution_count": 47,
     "metadata": {},
     "output_type": "execute_result"
    }
   ],
   "source": [
    "# r2 score (accuracy score) on test corpus\n",
    "gboost_gs.score(X_test_cvec, y_test)"
   ]
  },
  {
   "cell_type": "code",
   "execution_count": 48,
   "metadata": {},
   "outputs": [],
   "source": [
    "# Get predictions\n",
    "gboost_gs_predictions = rf_gs_tvec.predict(X_test_cvec)"
   ]
  },
  {
   "cell_type": "code",
   "execution_count": 49,
   "metadata": {},
   "outputs": [
    {
     "name": "stdout",
     "output_type": "stream",
     "text": [
      "True Negatives: 1175\n",
      "False Positives: 18\n",
      "False Negatives: 371\n",
      "True Positives: 804\n"
     ]
    }
   ],
   "source": [
    "# Generate the confusion matrix for gradient boosting\n",
    "confusion_matrix(y_test, gboost_gs_predictions)\n",
    "\n",
    "# Fix the order of tn, fp, fn, tp\n",
    "tn, fp, fn, tp = confusion_matrix(y_test, gboost_gs_predictions).ravel()\n",
    "\n",
    "# Print the respective results\n",
    "print(\"True Negatives: %s\" % tn)\n",
    "print(\"False Positives: %s\" % fp)\n",
    "print(\"False Negatives: %s\" % fn)\n",
    "print(\"True Positives: %s\" % tp)"
   ]
  },
  {
   "cell_type": "code",
   "execution_count": 50,
   "metadata": {},
   "outputs": [
    {
     "name": "stdout",
     "output_type": "stream",
     "text": [
      "Specificity: 0.9849119865884325\n",
      "Recall: 0.6842553191489362\n",
      "Precision: 0.9781021897810219\n",
      "F1 Score: 0.8052078117175764\n"
     ]
    }
   ],
   "source": [
    "# Calculate the specificity, recall, precision and f1-scores for gradient boosting\n",
    "specificity = tn / (tn + fp)\n",
    "recall = recall_score(y_test, gboost_gs_predictions)\n",
    "precision = precision_score(y_test, gboost_gs_predictions)\n",
    "harmonic_mean = f1_score(y_test, gboost_gs_predictions)\n",
    "\n",
    "# Print the scores out\n",
    "print(\"Specificity: %s\" % specificity)\n",
    "print(\"Recall: %s\" % recall)\n",
    "print(\"Precision: %s\" % precision)\n",
    "print(\"F1 Score: %s\" % harmonic_mean)"
   ]
  },
  {
   "cell_type": "code",
   "execution_count": 51,
   "metadata": {},
   "outputs": [
    {
     "name": "stdout",
     "output_type": "stream",
     "text": [
      "              precision    recall  f1-score   support\n",
      "\n",
      "           0       0.76      0.98      0.86      1193\n",
      "           1       0.98      0.68      0.81      1175\n",
      "\n",
      "    accuracy                           0.84      2368\n",
      "   macro avg       0.87      0.83      0.83      2368\n",
      "weighted avg       0.87      0.84      0.83      2368\n",
      "\n"
     ]
    }
   ],
   "source": [
    "# Classification report for gradient boosting (Count Vectorizer)\n",
    "print(classification_report(y_test, gboost_gs_predictions))"
   ]
  },
  {
   "attachments": {
    "image.png": {
     "image/png": "[encoded data removed]"
    }
   },
   "cell_type": "markdown",
   "metadata": {},
   "source": [
    "---\n",
    "\n",
    "**Summary:**\n",
    "\n",
    "We have compiled the statistics from all 5 models. The screenshot is as shown:\n",
    "\n",
    "![image.png](attachment:image.png)\n",
    "\n",
    "Based on all the results from the 5 models, we will go with `Naive Bayes using Count Vectorizer` as our chosen model.\n",
    "\n",
    "Out of all the models, the accuracy score between training data and testing data is the closest to each other:\n",
    "- indicated that the model trained well on the training data\n",
    "- also generalized well enough onto the testing data\n",
    "- Good accuracy score also meant that the model can predict the coffee and tea drinkers correctly (True Postives and True Negatives)\n",
    "\n",
    "<br>\n",
    "\n",
    "Wnen taking into other metric scores into consideration, we need to consider both tea and coffee predictions. Ideally, we want a model that can predict well for both instead of predicting well for only one group. To do this, at a general level, the metric scores for both 0 (\"Tea) and 1 (\"Coffee) (from the classification report) should not show great disparity, instead of focusing on the highest scores. In this case, Naive Bayes with Count Vectorizer did the best among all the models."
   ]
  },
  {
   "cell_type": "markdown",
   "metadata": {},
   "source": [
    "---\n",
    "\n",
    "### Part 3: Choosing our Model & Deployment onto Streamlit\n",
    "\n",
    "In this part, we will need to import the chosen trained model and the chosen vectorizer into .pkl files so that we can put it on the streamlit code to deploy it.\n",
    "The purpose of using streamlit so that we can choose a random comment off the coffee or tea subreddit (or any social media platform) and put it into our model to predict if the user is a coffee or tea user."
   ]
  },
  {
   "cell_type": "code",
   "execution_count": 52,
   "metadata": {},
   "outputs": [
    {
     "data": {
      "text/plain": [
       "['./naive_bayes_cvec.pkl']"
      ]
     },
     "execution_count": 52,
     "metadata": {},
     "output_type": "execute_result"
    }
   ],
   "source": [
    "# save our chosen model in a pkl file so we can put into streamlit\n",
    "import joblib\n",
    "\n",
    "joblib.dump(model_cvec, \"./code/naive_bayes_cvec.pkl\")"
   ]
  },
  {
   "cell_type": "code",
   "execution_count": 53,
   "metadata": {},
   "outputs": [
    {
     "data": {
      "text/plain": [
       "['./cvec.pkl']"
      ]
     },
     "execution_count": 53,
     "metadata": {},
     "output_type": "execute_result"
    }
   ],
   "source": [
    "# save the count vectorizer in a pkl file so we can put into streamlit\n",
    "joblib.dump(cvec, \"./code/cvec.pkl\")"
   ]
  }
 ],
 "metadata": {
  "kernelspec": {
   "display_name": "doodlesvivo",
   "language": "python",
   "name": "python3"
  },
  "language_info": {
   "codemirror_mode": {
    "name": "ipython",
    "version": 3
   },
   "file_extension": ".py",
   "mimetype": "text/x-python",
   "name": "python",
   "nbconvert_exporter": "python",
   "pygments_lexer": "ipython3",
   "version": "3.11.4"
  }
 },
 "nbformat": 4,
 "nbformat_minor": 2
}
